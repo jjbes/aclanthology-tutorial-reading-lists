{
 "cells": [
  {
   "cell_type": "code",
   "execution_count": 1,
   "id": "2840f5ed-9a1d-46aa-846b-7ce6626588a4",
   "metadata": {
    "scrolled": true
   },
   "outputs": [
    {
     "data": {
      "text/plain": [
       "True"
      ]
     },
     "execution_count": 1,
     "metadata": {},
     "output_type": "execute_result"
    }
   ],
   "source": [
    "import requests\n",
    "import json\n",
    "from pathlib import Path\n",
    "from tqdm import tqdm\n",
    "import time\n",
    "import os\n",
    "from dotenv import load_dotenv\n",
    "load_dotenv()"
   ]
  },
  {
   "cell_type": "code",
   "execution_count": 7,
   "id": "9eecaa96-1e5f-48be-b4db-d0869599b4f9",
   "metadata": {},
   "outputs": [],
   "source": [
    "apiKey = os.environ['SEMANTIC_SCHOLAR_API']\n",
    "\n",
    "def load_json(path):\n",
    "    f = open(path)\n",
    "    data = json.load(f)\n",
    "    f.close\n",
    "    return data\n",
    "    \n",
    "def request_batch_metadata(ids, fields=\"paperId\"):\n",
    "    r = requests.post(\n",
    "        'https://api.semanticscholar.org/graph/v1/paper/batch',\n",
    "        params={'fields': fields},\n",
    "        json={\"ids\": ids},\n",
    "        headers={\"x-api-key\":apiKey}\n",
    "    )\n",
    "    return r.json()"
   ]
  },
  {
   "cell_type": "markdown",
   "id": "98672ae2-0f33-4740-8310-43de25eaa102",
   "metadata": {},
   "source": [
    "# Initial references metadata download"
   ]
  },
  {
   "cell_type": "code",
   "execution_count": 20,
   "id": "9ba51627-4859-4d87-a3a3-dbf54897ff0e",
   "metadata": {
    "scrolled": true
   },
   "outputs": [
    {
     "name": "stderr",
     "output_type": "stream",
     "text": [
      "100%|███████████████████████████████████████████| 141/141 [00:03<00:00, 43.65it/s]\n"
     ]
    }
   ],
   "source": [
    "pathlist = []\n",
    "for year in [\"before_2020\", \"2020\", \"2021\", \"2022\", \"2023\", \"2024\"]:\n",
    "    pathlist = pathlist + sorted(Path(f\"./data/{year}\").glob('**/*.json'))\n",
    "\n",
    "with open('./data/references_metadata.json', 'r') as f:\n",
    "    references = json.load(f)\n",
    "\n",
    "for i, path in enumerate(tqdm(pathlist)):\n",
    "    if \".proceedings.json\" not in path.parts[-1]:\n",
    "        tutorial_json = load_json(path)\n",
    "        ids = [ref for key, values in tutorial_json.items() for section in values[\"readingList\"] for ref in section[\"referencesIds\"] if ref and ref not in references]\n",
    "        if ids != []:\n",
    "            res = request_batch_metadata(ids, \n",
    "                                          fields='paperId,externalIds,title,abstract,year,publicationVenue,s2FieldsOfStudy,referenceCount,citationCount,isOpenAccess')\n",
    "            time.sleep(1.1)\n",
    "        else:\n",
    "            res = []\n",
    "        for ref in res:\n",
    "            if ref[\"paperId\"] not in references:\n",
    "                references[ref[\"paperId\"]] = ref\n",
    "            \n",
    "with open('./data/references_metadata.json', 'w') as f:\n",
    "    json.dump(references, f, indent=2)"
   ]
  },
  {
   "cell_type": "markdown",
   "id": "25eb5480-9ff3-4252-abbb-6447fbc14209",
   "metadata": {},
   "source": [
    "# Update citation fields"
   ]
  },
  {
   "cell_type": "code",
   "execution_count": 21,
   "id": "b9eee6c7-9988-48c4-92c6-2f10f3fd5d14",
   "metadata": {
    "scrolled": true
   },
   "outputs": [],
   "source": [
    "with open('./data/references_metadata.json', 'r') as f:\n",
    "    references = json.load(f)\n",
    "\n",
    "keys = list(references.keys())\n",
    "keys_chunks = [keys[i:i + 500] for i in range(0, len(keys), 500)]\n",
    "\n",
    "for chunk in keys_chunks:\n",
    "    res = request_batch_metadata(chunk, fields=\"paperId,citationCount\")\n",
    "    for metadata in res:\n",
    "        if references[metadata[\"paperId\"]][\"citationCount\"] != metadata[\"citationCount\"]:\n",
    "            print(f\"Updated {metadata['paperId']}: {references[metadata['paperId']]['citationCount']} -> {metadata['citationCount']}\" )\n",
    "            references[metadata[\"paperId\"]][\"citationCount\"] = metadata[\"citationCount\"]\n",
    "            \n",
    "with open('./data/references_metadata.json', 'w') as f:\n",
    "    json.dump(references, f, indent=2)"
   ]
  },
  {
   "cell_type": "markdown",
   "id": "f4ab8d08-dfb0-483a-b428-8d961512301c",
   "metadata": {},
   "source": [
    "# Detect missing fields to fill"
   ]
  },
  {
   "cell_type": "code",
   "execution_count": 22,
   "id": "14354946-caa3-490e-a8a8-834ddfc04015",
   "metadata": {},
   "outputs": [],
   "source": [
    "with open('./data/references_metadata.json', 'r') as f:\n",
    "    references = json.load(f)\n",
    "\n",
    "with open('./data/references_missing_metadata.json', 'r') as f:\n",
    "    references_missing_metadata = json.load(f)\n",
    "    \n",
    "for key, ref in references.items():\n",
    "    if key not in references_missing_metadata:\n",
    "        if not ref[\"abstract\"] or not ref[\"year\"]:\n",
    "            references_missing_metadata[key] = {}\n",
    "        if not ref[\"abstract\"] and \"abstract\" not in references_missing_metadata[key]: \n",
    "                references_missing_metadata[key][\"abstract\"] = None\n",
    "        if not ref[\"year\"] and \"year\" not in references_missing_metadata[key]:\n",
    "                references_missing_metadata[key][\"year\"] = None\n",
    "\n",
    "with open('./data/references_missing_metadata.json', 'w') as f:\n",
    "    json.dump(references_missing_metadata, f, indent=2)"
   ]
  }
 ],
 "metadata": {
  "kernelspec": {
   "display_name": "Python 3 (ipykernel)",
   "language": "python",
   "name": "python3"
  },
  "language_info": {
   "codemirror_mode": {
    "name": "ipython",
    "version": 3
   },
   "file_extension": ".py",
   "mimetype": "text/x-python",
   "name": "python",
   "nbconvert_exporter": "python",
   "pygments_lexer": "ipython3",
   "version": "3.11.8"
  }
 },
 "nbformat": 4,
 "nbformat_minor": 5
}
