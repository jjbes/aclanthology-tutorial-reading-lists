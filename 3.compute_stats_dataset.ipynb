{
 "cells": [
  {
   "cell_type": "code",
   "execution_count": 38,
   "id": "8ebecbb9-2e6e-4463-b371-e648b6a6a24e",
   "metadata": {},
   "outputs": [],
   "source": [
    "import ast\n",
    "import pandas as pd\n",
    "import numpy as np\n",
    "import matplotlib.pyplot as plt"
   ]
  },
  {
   "cell_type": "code",
   "execution_count": 39,
   "id": "bd961577-9a76-4cda-a614-343cdd113c15",
   "metadata": {},
   "outputs": [],
   "source": [
    "reading_lists = pd.read_csv(\"./reading_lists.csv\")\n",
    "reading_lists['reading_list'] = reading_lists['reading_list'].apply(ast.literal_eval)"
   ]
  },
  {
   "cell_type": "code",
   "execution_count": 40,
   "id": "eb030de6-e994-4a22-bc6d-4fed16dc2427",
   "metadata": {
    "scrolled": true
   },
   "outputs": [
    {
     "data": {
      "text/html": [
       "<div>\n",
       "<style scoped>\n",
       "    .dataframe tbody tr th:only-of-type {\n",
       "        vertical-align: middle;\n",
       "    }\n",
       "\n",
       "    .dataframe tbody tr th {\n",
       "        vertical-align: top;\n",
       "    }\n",
       "\n",
       "    .dataframe thead th {\n",
       "        text-align: right;\n",
       "    }\n",
       "</style>\n",
       "<table border=\"1\" class=\"dataframe\">\n",
       "  <thead>\n",
       "    <tr style=\"text-align: right;\">\n",
       "      <th></th>\n",
       "      <th>id</th>\n",
       "      <th>title</th>\n",
       "      <th>abstract</th>\n",
       "      <th>year</th>\n",
       "      <th>url</th>\n",
       "      <th>venues</th>\n",
       "      <th>reading_list</th>\n",
       "    </tr>\n",
       "  </thead>\n",
       "  <tbody>\n",
       "    <tr>\n",
       "      <th>0</th>\n",
       "      <td>C16-3001</td>\n",
       "      <td>Compositional Distributional Models of Meaning</td>\n",
       "      <td>Compositional distributional models of meaning...</td>\n",
       "      <td>2016</td>\n",
       "      <td>https://aclanthology.org/C16-3001/</td>\n",
       "      <td>COLING</td>\n",
       "      <td>[{'paperId': '37efe2ef1b9d27cc598361a8013ec888...</td>\n",
       "    </tr>\n",
       "    <tr>\n",
       "      <th>1</th>\n",
       "      <td>P19-4004</td>\n",
       "      <td>Computational Analysis of Political Texts: Bri...</td>\n",
       "      <td>In the last twenty years, political scientists...</td>\n",
       "      <td>2019</td>\n",
       "      <td>https://aclanthology.org/P19-4004/</td>\n",
       "      <td>ACL</td>\n",
       "      <td>[{'paperId': 'b9921fb4d1448058642897797e77bdaf...</td>\n",
       "    </tr>\n",
       "    <tr>\n",
       "      <th>2</th>\n",
       "      <td>2020.acl-tutorials.1</td>\n",
       "      <td>Interpretability and Analysis in Neural NLP</td>\n",
       "      <td>While deep learning has transformed the natura...</td>\n",
       "      <td>2020</td>\n",
       "      <td>https://aclanthology.org/2020.acl-tutorials.1</td>\n",
       "      <td>ACL</td>\n",
       "      <td>[{'paperId': '668f42a4d4094f0a66d402a16087e142...</td>\n",
       "    </tr>\n",
       "    <tr>\n",
       "      <th>3</th>\n",
       "      <td>2020.acl-tutorials.2</td>\n",
       "      <td>Integrating Ethics into the NLP Curriculum</td>\n",
       "      <td>To raise awareness among future NLP practition...</td>\n",
       "      <td>2020</td>\n",
       "      <td>https://aclanthology.org/2020.acl-tutorials.2</td>\n",
       "      <td>ACL</td>\n",
       "      <td>[{'paperId': '0e661bd2cfe94ed58e4e2abc1409c75b...</td>\n",
       "    </tr>\n",
       "    <tr>\n",
       "      <th>4</th>\n",
       "      <td>2020.acl-tutorials.3</td>\n",
       "      <td>Achieving Common Ground in Multi-modal Dialogue</td>\n",
       "      <td>All communication aims at achieving common gro...</td>\n",
       "      <td>2020</td>\n",
       "      <td>https://aclanthology.org/2020.acl-tutorials.3</td>\n",
       "      <td>ACL</td>\n",
       "      <td>[{'paperId': '5a9cac54de14e58697d0315fe3c01f3d...</td>\n",
       "    </tr>\n",
       "    <tr>\n",
       "      <th>...</th>\n",
       "      <td>...</td>\n",
       "      <td>...</td>\n",
       "      <td>...</td>\n",
       "      <td>...</td>\n",
       "      <td>...</td>\n",
       "      <td>...</td>\n",
       "      <td>...</td>\n",
       "    </tr>\n",
       "    <tr>\n",
       "      <th>80</th>\n",
       "      <td>2024.lrec-tutorials.11</td>\n",
       "      <td>Tutorial Proposal: Hallucination in Large Lang...</td>\n",
       "      <td>In the fast-paced domain of Large Language Mod...</td>\n",
       "      <td>2024</td>\n",
       "      <td>https://aclanthology.org/2024.lrec-tutorials.11</td>\n",
       "      <td>LREC</td>\n",
       "      <td>[{'paperId': 'd00735241af700d21762d2f3ca00d920...</td>\n",
       "    </tr>\n",
       "    <tr>\n",
       "      <th>81</th>\n",
       "      <td>2024.lrec-tutorials.13</td>\n",
       "      <td>Knowledge-enhanced Response Generation in Dial...</td>\n",
       "      <td>This tutorial provides an in-depth exploration...</td>\n",
       "      <td>2024</td>\n",
       "      <td>https://aclanthology.org/2024.lrec-tutorials.13</td>\n",
       "      <td>LREC</td>\n",
       "      <td>[{'paperId': 'a6401e102c03a441992b3e45f7b63eec...</td>\n",
       "    </tr>\n",
       "    <tr>\n",
       "      <th>82</th>\n",
       "      <td>2024.naacl-tutorials.2</td>\n",
       "      <td>Combating Security and Privacy Issues in the E...</td>\n",
       "      <td>This tutorial seeks to provide a systematic su...</td>\n",
       "      <td>2024</td>\n",
       "      <td>https://aclanthology.org/2024.naacl-tutorials.2</td>\n",
       "      <td>NAACL</td>\n",
       "      <td>[{'paperId': '3a1f8829e641b46f661775f64a7f27b9...</td>\n",
       "    </tr>\n",
       "    <tr>\n",
       "      <th>83</th>\n",
       "      <td>2024.naacl-tutorials.4</td>\n",
       "      <td>From Text to Context: Contextualizing Language...</td>\n",
       "      <td>Aimed at the NLP researchers or practitioners ...</td>\n",
       "      <td>2024</td>\n",
       "      <td>https://aclanthology.org/2024.naacl-tutorials.4</td>\n",
       "      <td>NAACL</td>\n",
       "      <td>[{'paperId': 'bdb73be49c4fdcbd0c79ca62e5703155...</td>\n",
       "    </tr>\n",
       "    <tr>\n",
       "      <th>84</th>\n",
       "      <td>2024.naacl-tutorials.5</td>\n",
       "      <td>Human-AI Interaction in the Age of LLMs</td>\n",
       "      <td>Recently, the development of Large Language Mo...</td>\n",
       "      <td>2024</td>\n",
       "      <td>https://aclanthology.org/2024.naacl-tutorials.5</td>\n",
       "      <td>NAACL</td>\n",
       "      <td>[{'paperId': '529025645c70a935221bd434484faee6...</td>\n",
       "    </tr>\n",
       "  </tbody>\n",
       "</table>\n",
       "<p>85 rows × 7 columns</p>\n",
       "</div>"
      ],
      "text/plain": [
       "                        id                                              title  \\\n",
       "0                 C16-3001     Compositional Distributional Models of Meaning   \n",
       "1                 P19-4004  Computational Analysis of Political Texts: Bri...   \n",
       "2     2020.acl-tutorials.1        Interpretability and Analysis in Neural NLP   \n",
       "3     2020.acl-tutorials.2         Integrating Ethics into the NLP Curriculum   \n",
       "4     2020.acl-tutorials.3    Achieving Common Ground in Multi-modal Dialogue   \n",
       "..                     ...                                                ...   \n",
       "80  2024.lrec-tutorials.11  Tutorial Proposal: Hallucination in Large Lang...   \n",
       "81  2024.lrec-tutorials.13  Knowledge-enhanced Response Generation in Dial...   \n",
       "82  2024.naacl-tutorials.2  Combating Security and Privacy Issues in the E...   \n",
       "83  2024.naacl-tutorials.4  From Text to Context: Contextualizing Language...   \n",
       "84  2024.naacl-tutorials.5            Human-AI Interaction in the Age of LLMs   \n",
       "\n",
       "                                             abstract  year  \\\n",
       "0   Compositional distributional models of meaning...  2016   \n",
       "1   In the last twenty years, political scientists...  2019   \n",
       "2   While deep learning has transformed the natura...  2020   \n",
       "3   To raise awareness among future NLP practition...  2020   \n",
       "4   All communication aims at achieving common gro...  2020   \n",
       "..                                                ...   ...   \n",
       "80  In the fast-paced domain of Large Language Mod...  2024   \n",
       "81  This tutorial provides an in-depth exploration...  2024   \n",
       "82  This tutorial seeks to provide a systematic su...  2024   \n",
       "83  Aimed at the NLP researchers or practitioners ...  2024   \n",
       "84  Recently, the development of Large Language Mo...  2024   \n",
       "\n",
       "                                                url  venues  \\\n",
       "0                https://aclanthology.org/C16-3001/  COLING   \n",
       "1                https://aclanthology.org/P19-4004/     ACL   \n",
       "2     https://aclanthology.org/2020.acl-tutorials.1     ACL   \n",
       "3     https://aclanthology.org/2020.acl-tutorials.2     ACL   \n",
       "4     https://aclanthology.org/2020.acl-tutorials.3     ACL   \n",
       "..                                              ...     ...   \n",
       "80  https://aclanthology.org/2024.lrec-tutorials.11    LREC   \n",
       "81  https://aclanthology.org/2024.lrec-tutorials.13    LREC   \n",
       "82  https://aclanthology.org/2024.naacl-tutorials.2   NAACL   \n",
       "83  https://aclanthology.org/2024.naacl-tutorials.4   NAACL   \n",
       "84  https://aclanthology.org/2024.naacl-tutorials.5   NAACL   \n",
       "\n",
       "                                         reading_list  \n",
       "0   [{'paperId': '37efe2ef1b9d27cc598361a8013ec888...  \n",
       "1   [{'paperId': 'b9921fb4d1448058642897797e77bdaf...  \n",
       "2   [{'paperId': '668f42a4d4094f0a66d402a16087e142...  \n",
       "3   [{'paperId': '0e661bd2cfe94ed58e4e2abc1409c75b...  \n",
       "4   [{'paperId': '5a9cac54de14e58697d0315fe3c01f3d...  \n",
       "..                                                ...  \n",
       "80  [{'paperId': 'd00735241af700d21762d2f3ca00d920...  \n",
       "81  [{'paperId': 'a6401e102c03a441992b3e45f7b63eec...  \n",
       "82  [{'paperId': '3a1f8829e641b46f661775f64a7f27b9...  \n",
       "83  [{'paperId': 'bdb73be49c4fdcbd0c79ca62e5703155...  \n",
       "84  [{'paperId': '529025645c70a935221bd434484faee6...  \n",
       "\n",
       "[85 rows x 7 columns]"
      ]
     },
     "execution_count": 40,
     "metadata": {},
     "output_type": "execute_result"
    }
   ],
   "source": [
    "reading_lists"
   ]
  },
  {
   "cell_type": "code",
   "execution_count": 41,
   "id": "112ccc49-5846-402f-8cf3-1e3b0d4a1b38",
   "metadata": {},
   "outputs": [
    {
     "name": "stdout",
     "output_type": "stream",
     "text": [
      "['COLING 2016' 'ACL 2019' 'ACL 2020' 'COLING 2020' 'EMNLP 2020'\n",
      " 'ACL, IJCNLP 2021' 'EACL 2021' 'EMNLP 2021' 'NAACL 2021'\n",
      " 'AACL, IJCNLP 2022' 'ACL 2022' 'EMNLP 2022' 'NAACL 2022' 'ACL 2023'\n",
      " 'EACL 2023' 'EMNLP 2023' 'IJCNLP, AACL 2023' 'EACL 2024' 'LREC 2024'\n",
      " 'NAACL 2024']\n"
     ]
    },
    {
     "data": {
      "text/plain": [
       "20"
      ]
     },
     "execution_count": 41,
     "metadata": {},
     "output_type": "execute_result"
    }
   ],
   "source": [
    "print((reading_lists['venues'] + ' '  + reading_lists['year'].astype(str)).unique())\n",
    "len((reading_lists['venues'] + ' '  + reading_lists['year'].astype(str)).unique())"
   ]
  },
  {
   "cell_type": "code",
   "execution_count": 42,
   "id": "51865de9-fa53-465a-ac41-c12de9c80550",
   "metadata": {},
   "outputs": [
    {
     "data": {
      "text/plain": [
       "85"
      ]
     },
     "execution_count": 42,
     "metadata": {},
     "output_type": "execute_result"
    }
   ],
   "source": [
    "len(reading_lists[\"id\"].unique())"
   ]
  },
  {
   "cell_type": "code",
   "execution_count": 43,
   "id": "d4562176-2133-4c2c-a654-f8d639492ae3",
   "metadata": {},
   "outputs": [
    {
     "data": {
      "text/plain": [
       "0     [{'paperId': '37efe2ef1b9d27cc598361a8013ec888...\n",
       "1     [{'paperId': 'b9921fb4d1448058642897797e77bdaf...\n",
       "2     [{'paperId': '668f42a4d4094f0a66d402a16087e142...\n",
       "3     [{'paperId': '0e661bd2cfe94ed58e4e2abc1409c75b...\n",
       "4     [{'paperId': '5a9cac54de14e58697d0315fe3c01f3d...\n",
       "                            ...                        \n",
       "80    [{'paperId': 'd00735241af700d21762d2f3ca00d920...\n",
       "81    [{'paperId': 'a6401e102c03a441992b3e45f7b63eec...\n",
       "82    [{'paperId': '3a1f8829e641b46f661775f64a7f27b9...\n",
       "83    [{'paperId': 'bdb73be49c4fdcbd0c79ca62e5703155...\n",
       "84    [{'paperId': '529025645c70a935221bd434484faee6...\n",
       "Name: reading_list, Length: 85, dtype: object"
      ]
     },
     "execution_count": 43,
     "metadata": {},
     "output_type": "execute_result"
    }
   ],
   "source": [
    "reading_lists['reading_list']"
   ]
  },
  {
   "cell_type": "code",
   "execution_count": 44,
   "id": "9f075afb-b79b-4d73-a25b-4608ec0b2abe",
   "metadata": {},
   "outputs": [
    {
     "data": {
      "image/png": "[encoded data removed]",
      "text/plain": [
       "<Figure size 640x480 with 1 Axes>"
      ]
     },
     "metadata": {},
     "output_type": "display_data"
    }
   ],
   "source": [
    "%matplotlib inline\n",
    "\n",
    "sizes = [len(v) for v in reading_lists['reading_list']]\n",
    "\n",
    "nb_bins = max(sizes)+1-min(sizes)\n",
    "\n",
    "plt.hist(sizes, bins=nb_bins, color=['#1E88E5'])\n",
    "plt.ylabel(\"Number of reading lists\", fontsize=16)\n",
    "plt.xlabel(\"Number of references\", fontsize=16)\n",
    "plt.xticks(range(min(sizes), max(sizes)+1))\n",
    "plt.show()"
   ]
  },
  {
   "cell_type": "markdown",
   "id": "7e8b1cc8-c71b-40f8-9ae4-25abf46174b8",
   "metadata": {},
   "source": [
    "## References stats"
   ]
  },
  {
   "cell_type": "code",
   "execution_count": 45,
   "id": "75b767b2-ee59-4717-bdbf-f612494ddd6d",
   "metadata": {
    "scrolled": true
   },
   "outputs": [
    {
     "name": "stdout",
     "output_type": "stream",
     "text": [
      "8.24705882352941\n",
      "3\n",
      "19\n"
     ]
    }
   ],
   "source": [
    "#Avg references\n",
    "sizes = []\n",
    "for _, row in reading_lists.iterrows():\n",
    "    sizes.append(len(row[\"reading_list\"]))\n",
    "\n",
    "print(np.mean(sizes))\n",
    "print(np.min(sizes))\n",
    "print(np.max(sizes))"
   ]
  },
  {
   "cell_type": "code",
   "execution_count": 46,
   "id": "664b6a9b-2df6-4fb2-a9c3-385f17e65f70",
   "metadata": {
    "scrolled": true
   },
   "outputs": [
    {
     "name": "stdout",
     "output_type": "stream",
     "text": [
      "{'paperId': '9ca5552008fe2c24e0541f6af47fd5110d4015b3', 'key': 'lastwordsreviewingthereviewersnone', 'acl_id': 'J05-4006', 'title': 'Last Words: Reviewing the Reviewers', 'abstract': '', 'year': 2005, 'section': None, 'subsection': None}\n",
      "{'paperId': 'a772589606f9880d74ac79519ccef073eefd5519', 'key': 'doubleblindpeerreviewandgenderpublicationbias2008', 'acl_id': '', 'title': 'Double-blind peer review and gender publication bias', 'abstract': '', 'year': 2008, 'section': None, 'subsection': None}\n",
      "{'paperId': '8d75051e8151fa5b7bd7c863102d0c4be7608c93', 'key': 'peerreviewreviewed2014', 'acl_id': '', 'title': 'Peer review — reviewed', 'abstract': '', 'year': 2014, 'section': None, 'subsection': None}\n",
      "{'paperId': '830ab38207bd40189752a301967b865c38dab591', 'key': 'lastwordsbreakingnewschangingattitudesandpracticesnone', 'acl_id': 'J07-4009', 'title': 'Last Words: Breaking News: Changing Attitudes and Practices', 'abstract': '', 'year': 2007, 'section': None, 'subsection': None}\n",
      "{'paperId': '2c5d4e99bd86411305e42c52009af75758272471', 'key': 'interpretingmotiongroundedrepresentationsforspatiallanguage2012', 'acl_id': '', 'title': 'Interpreting Motion - Grounded Representations for Spatial Language', 'abstract': '', 'year': 2012, 'section': None, 'subsection': None}\n",
      "{'paperId': '1295f871f2532274fb32b7815a605b3b3e6c7b6f', 'key': 'spatialrolelabelingannotationscheme2017', 'acl_id': '', 'title': 'Spatial Role Labeling Annotation Scheme', 'abstract': '', 'year': 2017, 'section': None, 'subsection': None}\n",
      "{'paperId': '9ca5552008fe2c24e0541f6af47fd5110d4015b3', 'key': 'lastwordsreviewingthereviewersnone', 'acl_id': 'J05-4006', 'title': 'Last Words: Reviewing the Reviewers', 'abstract': '', 'year': 2005, 'section': None, 'subsection': None}\n",
      "{'paperId': 'a772589606f9880d74ac79519ccef073eefd5519', 'key': 'doubleblindpeerreviewandgenderpublicationbias2008', 'acl_id': '', 'title': 'Double-blind peer review and gender publication bias', 'abstract': '', 'year': 2008, 'section': None, 'subsection': None}\n",
      "{'paperId': '0c40a8815f6e977d713cf253a636219b32c17559', 'key': 'lastwordsonbecomingadisciplinenone', 'acl_id': 'J08-1008', 'title': 'Last Words: On Becoming a Discipline', 'abstract': '', 'year': 2008, 'section': None, 'subsection': None}\n",
      "{'paperId': '830ab38207bd40189752a301967b865c38dab591', 'key': 'lastwordsbreakingnewschangingattitudesandpracticesnone', 'acl_id': 'J07-4009', 'title': 'Last Words: Breaking News: Changing Attitudes and Practices', 'abstract': '', 'year': 2007, 'section': None, 'subsection': None}\n"
     ]
    }
   ],
   "source": [
    "for _, row in reading_lists.iterrows():\n",
    "    for ref in row[\"reading_list\"]:\n",
    "        if \"abstract\" not in ref: \n",
    "            print(ref)\n",
    "        if ref['abstract'] == '':\n",
    "            print(ref)"
   ]
  },
  {
   "cell_type": "code",
   "execution_count": 47,
   "id": "f6bb8a62-4089-4c25-a923-4c32f5858129",
   "metadata": {},
   "outputs": [
    {
     "name": "stdout",
     "output_type": "stream",
     "text": [
      "701\n"
     ]
    },
    {
     "data": {
      "text/plain": [
       "662"
      ]
     },
     "execution_count": 47,
     "metadata": {},
     "output_type": "execute_result"
    }
   ],
   "source": [
    "refs = []\n",
    "unique_refs = []\n",
    "for _, row in reading_lists.iterrows():\n",
    "    for ref in row[\"reading_list\"]:\n",
    "        if ref not in unique_refs:\n",
    "            unique_refs.append(ref)\n",
    "        refs.append(ref)\n",
    "print(len(refs))\n",
    "len(unique_refs)"
   ]
  },
  {
   "cell_type": "code",
   "execution_count": 48,
   "id": "447e0f34-6274-4a16-9d62-44ee67663364",
   "metadata": {},
   "outputs": [
    {
     "name": "stdout",
     "output_type": "stream",
     "text": [
      "          venues                                              title\n",
      "67  IJCNLP, AACL  Current Status of NLP in South East Asia with ...\n"
     ]
    }
   ],
   "source": [
    "print(reading_lists[reading_lists[\"abstract\"].isna()][[\"venues\", \"title\"]])"
   ]
  },
  {
   "cell_type": "markdown",
   "id": "67f41cd6-4c72-48a5-b8e1-7ad759eec37b",
   "metadata": {},
   "source": [
    "## Years of publication"
   ]
  },
  {
   "cell_type": "code",
   "execution_count": 49,
   "id": "45a3e5c7-823b-418b-afde-1df5d32fe6e4",
   "metadata": {},
   "outputs": [
    {
     "name": "stdout",
     "output_type": "stream",
     "text": [
      "2017.8504531722053\n",
      "1977\n",
      "2023\n",
      "[1977 1979 1986 1991 1992 1994 1997 1999 2001 2003 2004 2005 2006 2007\n",
      " 2008 2009 2010 2011 2012 2013 2014 2015 2016 2017 2018 2019 2020 2021\n",
      " 2022 2023] [ 1  1  1  1  1  1  1  1  1  2  2  6  1  5  7  5 14  7  8 12 21 20 41 63\n",
      " 65 84 97 76 68 49]\n"
     ]
    },
    {
     "data": {
      "image/png": "[encoded data removed]",
      "text/plain": [
       "<Figure size 640x480 with 1 Axes>"
      ]
     },
     "metadata": {},
     "output_type": "display_data"
    }
   ],
   "source": [
    "import matplotlib.pyplot as plt\n",
    "\n",
    "years = []\n",
    "\n",
    "for ref in unique_refs:\n",
    "    years.append(ref[\"year\"])\n",
    "print(np.mean(years))\n",
    "print(np.min(years))\n",
    "print(np.max(years))\n",
    "\n",
    "unique, counts = np.unique(years, return_counts=True)\n",
    "print(unique, counts)\n",
    "plt.bar(unique, counts, color=['#1E88E5'])\n",
    "plt.xlabel('Publication year')\n",
    "plt.ylabel('Number of referenced works')\n",
    "plt.show()"
   ]
  },
  {
   "cell_type": "markdown",
   "id": "65bd42b7-30e7-4426-bafa-ad0e057bfc82",
   "metadata": {},
   "source": [
    "## Sections Stats"
   ]
  },
  {
   "cell_type": "code",
   "execution_count": 50,
   "id": "397b2b41-9b79-460f-8657-eb95cd3941cb",
   "metadata": {},
   "outputs": [
    {
     "name": "stdout",
     "output_type": "stream",
     "text": [
      "58\n",
      "27\n",
      "3\n"
     ]
    }
   ],
   "source": [
    "reading_lists_subs = pd.read_csv(\"./reading_lists_sections.csv\")\n",
    "reading_lists_subs['reading_list'] = reading_lists_subs['reading_list'].apply(ast.literal_eval)\n",
    "\n",
    "# No section\n",
    "print(len(reading_lists_subs[reading_lists_subs[\"section\"].isna()][\"id\"].unique()))\n",
    "# Section\n",
    "print(len(reading_lists_subs[reading_lists_subs[\"section\"].notna()][\"id\"].unique()))\n",
    "# Subsection\n",
    "print(len(reading_lists_subs[reading_lists_subs[\"subsection\"].notna()][\"id\"].unique()))"
   ]
  }
 ],
 "metadata": {
  "kernelspec": {
   "display_name": "Python 3 (ipykernel)",
   "language": "python",
   "name": "python3"
  },
  "language_info": {
   "codemirror_mode": {
    "name": "ipython",
    "version": 3
   },
   "file_extension": ".py",
   "mimetype": "text/x-python",
   "name": "python",
   "nbconvert_exporter": "python",
   "pygments_lexer": "ipython3",
   "version": "3.11.8"
  }
 },
 "nbformat": 4,
 "nbformat_minor": 5
}
