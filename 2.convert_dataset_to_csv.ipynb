{
 "cells": [
  {
   "cell_type": "code",
   "execution_count": 1,
   "id": "3d6666c8-273d-47b8-81b9-076c4cc108af",
   "metadata": {},
   "outputs": [],
   "source": [
    "import json\n",
    "import re\n",
    "import pandas as pd\n",
    "from pathlib import Path"
   ]
  },
  {
   "cell_type": "code",
   "execution_count": 4,
   "id": "8035acd0-ab86-4906-9499-5e44db9714a8",
   "metadata": {},
   "outputs": [],
   "source": [
    "def clean_string(string):\n",
    "    return re.sub(r'\\W+','', string).lower() \n",
    "    \n",
    "def load_json(path):\n",
    "    f = open(path)\n",
    "    data = json.load(f)\n",
    "    f.close\n",
    "    return data\n",
    "\n",
    "def get_tutorial_reading_list(reading_list_ids):\n",
    "    reading_list = []\n",
    "    for section in reading_list_ids:\n",
    "        for ref_id in section[\"referencesIds\"]:\n",
    "            if ref_id:\n",
    "                ref = references_metadata[ref_id]\n",
    "                reading_list.append({\n",
    "                    \"paperId\": ref[\"paperId\"],\n",
    "                    \"key\": clean_string(ref[\"title\"] + str(ref[\"year\"])),\n",
    "                    \"acl_id\": ref[\"externalIds\"][\"ACL\"] if \"ACL\" in ref[\"externalIds\"] else \"\",\n",
    "                    \"title\": ref[\"title\"],\n",
    "                    \"abstract\": ref[\"abstract\"] if ref[\"abstract\"] else references_missing_metadata[ref_id][\"abstract\"],\n",
    "                    \"year\": ref[\"year\"] if ref[\"year\"] else references_missing_metadata[ref_id][\"year\"],\n",
    "                    \"section\": section[\"sectionName\"],\n",
    "                    \"subsection\": section[\"subsectionName\"]\n",
    "                })\n",
    "    return reading_list\n",
    "\n",
    "def get_tutorial_reading_list_by_sections(reading_list_ids):\n",
    "    reading_list_refs = []\n",
    "    for section in reading_list_ids:\n",
    "        section_refs = []\n",
    "        for ref_id in section[\"referencesIds\"]:\n",
    "            if ref_id:\n",
    "                ref = references_metadata[ref_id]\n",
    "                section_refs.append({\n",
    "                    \"paperId\": ref[\"paperId\"],\n",
    "                    \"key\": clean_string(ref[\"title\"] + str(ref[\"year\"])),\n",
    "                    \"title\": ref[\"title\"],\n",
    "                    \"abstract\": ref[\"abstract\"] if ref[\"abstract\"] else references_missing_metadata[ref_id][\"abstract\"],\n",
    "                    \"year\": ref[\"year\"] if ref[\"year\"] else references_missing_metadata[ref_id][\"year\"],\n",
    "                    \"section\": section[\"sectionName\"],\n",
    "                    \"subsection\": section[\"subsectionName\"]\n",
    "                })\n",
    "        reading_list_refs.append(section_refs)\n",
    "    return reading_list_refs"
   ]
  },
  {
   "cell_type": "code",
   "execution_count": 5,
   "id": "649ac31f-3dc5-4013-8fbd-5d193553de37",
   "metadata": {},
   "outputs": [],
   "source": [
    "pathlist = []\n",
    "for year in [\"before_2020\", \"2020\", \"2021\", \"2022\", \"2023\", \"2024\"]:\n",
    "    pathlist = pathlist + sorted(Path(f\"./data/{year}\").glob('**/*.json'))\n",
    "    \n",
    "with open('./data/references_metadata.json', 'r') as f:\n",
    "    references_metadata = json.load(f)\n",
    "with open('./data/references_missing_metadata.json', 'r') as f:\n",
    "    references_missing_metadata = json.load(f)\n",
    "\n",
    "proceedings = {}\n",
    "tutorials = {}\n",
    "\n",
    "for path in pathlist:\n",
    "    if \".proceedings.json\" in path.parts[-1]:\n",
    "        content = load_json(path)\n",
    "        proceedings = proceedings | content\n",
    "\n",
    "for path in pathlist:\n",
    "    if \".proceedings.json\" not in path.parts[-1]:\n",
    "        content = load_json(path)\n",
    "        tutorials = tutorials | content"
   ]
  },
  {
   "cell_type": "markdown",
   "id": "ec876819-4469-4682-a37f-48f415071fed",
   "metadata": {},
   "source": [
    "# Filter stats"
   ]
  },
  {
   "cell_type": "code",
   "execution_count": 6,
   "id": "29f4355b-9e40-4c15-a133-9fdd26bc0df7",
   "metadata": {},
   "outputs": [
    {
     "name": "stdout",
     "output_type": "stream",
     "text": [
      "121 tutorials found in the dataset\n"
     ]
    }
   ],
   "source": [
    "lists = [get_tutorial_reading_list(tutorials[tutorial_key][\"readingList\"]) for proceeding in proceedings.values() for tutorial_key in proceeding[\"tutorials\"]]\n",
    "\n",
    "print(\"{} tutorials found in the dataset\".format(len(lists)))"
   ]
  },
  {
   "cell_type": "code",
   "execution_count": 7,
   "id": "25f1903b-cdba-447b-a21a-cee170d5b6c0",
   "metadata": {},
   "outputs": [
    {
     "name": "stdout",
     "output_type": "stream",
     "text": [
      "85 tutorials remain after the filtering: [min:3 - max:20] references in their reading lists\n"
     ]
    }
   ],
   "source": [
    "min_references = 3\n",
    "max_references = 20\n",
    "\n",
    "lists = []\n",
    "for proceeding in proceedings.values():\n",
    "    for tutorial_key in proceeding[\"tutorials\"]:\n",
    "        reading_list = get_tutorial_reading_list(tutorials[tutorial_key][\"readingList\"])\n",
    "        if len(reading_list) >= min_references and len(reading_list) <= max_references:\n",
    "            lists.append(reading_list)\n",
    "            \n",
    "print(\"{} tutorials remain after the filtering: [min:{} - max:{}] references in their reading lists\".format(len(lists), min_references, max_references))"
   ]
  },
  {
   "cell_type": "markdown",
   "id": "9e871995-8ac2-42a0-8815-435e0675ea82",
   "metadata": {},
   "source": [
    "# Single-level list csv generation"
   ]
  },
  {
   "cell_type": "code",
   "execution_count": 8,
   "id": "395c4ed1-d937-4f69-b239-6fdf0e8e7344",
   "metadata": {},
   "outputs": [],
   "source": [
    "min_references = 3\n",
    "max_references = 20\n",
    "\n",
    "lists = {}\n",
    "\n",
    "for proceeding in proceedings.values():\n",
    "    for tutorial_key in proceeding[\"tutorials\"]:\n",
    "        reading_list = get_tutorial_reading_list(tutorials[tutorial_key][\"readingList\"])\n",
    "        if len(reading_list) >= 3 and len(reading_list) <= 20:\n",
    "            lists[tutorial_key] = {\n",
    "                \"id\": tutorial_key,\n",
    "                \"title\": tutorials[tutorial_key][\"title\"],\n",
    "                \"abstract\": tutorials[tutorial_key][\"abstract\"],\n",
    "                \"year\": tutorials[tutorial_key][\"year\"],\n",
    "                \"url\": tutorials[tutorial_key][\"url\"],\n",
    "                \"venues\": \", \".join([venue[\"acronym\"] for venue in proceeding[\"venues\"]]),\n",
    "                \"reading_list\": reading_list\n",
    "            }\n",
    "pd.DataFrame.from_dict(lists, orient='index').to_csv('reading_lists.csv', index=False)   "
   ]
  },
  {
   "cell_type": "markdown",
   "id": "e61c010a-9bbe-4487-b071-8eb95919c7ef",
   "metadata": {},
   "source": [
    "# Sections-level list csv generation"
   ]
  },
  {
   "cell_type": "code",
   "execution_count": 9,
   "id": "9aaa5037-ea0b-4a27-bc77-acf83e4c1dbb",
   "metadata": {},
   "outputs": [],
   "source": [
    "lists = {}\n",
    "\n",
    "for proceeding in proceedings.values():\n",
    "    for tutorial_key in proceeding[\"tutorials\"]:\n",
    "        reading_list = get_tutorial_reading_list(tutorials[tutorial_key][\"readingList\"])\n",
    "        if reading_list != [] and len(reading_list) >= 3 and len(reading_list) <= 20:\n",
    "            reading_list_by_sections = get_tutorial_reading_list_by_sections(tutorials[tutorial_key][\"readingList\"])\n",
    "            for i, section in enumerate(reading_list_by_sections):\n",
    "                lists[tutorial_key+str(i)] = {\n",
    "                    \"id\": tutorial_key,\n",
    "                    \"title\": tutorials[tutorial_key][\"title\"],\n",
    "                    \"abstract\": tutorials[tutorial_key][\"abstract\"],\n",
    "                    \"year\": tutorials[tutorial_key][\"year\"],\n",
    "                    \"url\": tutorials[tutorial_key][\"url\"],\n",
    "                    \"venues\": \", \".join([venue[\"acronym\"] for venue in proceeding[\"venues\"]]),\n",
    "                    \"section\": section[0][\"section\"],\n",
    "                    \"subsection\": section[0][\"subsection\"],\n",
    "                    \"reading_list\": reading_list\n",
    "                }\n",
    "pd.DataFrame.from_dict(lists, orient='index').to_csv('reading_lists_sections.csv', index=False)   "
   ]
  }
 ],
 "metadata": {
  "kernelspec": {
   "display_name": "Python 3 (ipykernel)",
   "language": "python",
   "name": "python3"
  },
  "language_info": {
   "codemirror_mode": {
    "name": "ipython",
    "version": 3
   },
   "file_extension": ".py",
   "mimetype": "text/x-python",
   "name": "python",
   "nbconvert_exporter": "python",
   "pygments_lexer": "ipython3",
   "version": "3.11.8"
  }
 },
 "nbformat": 4,
 "nbformat_minor": 5
}
