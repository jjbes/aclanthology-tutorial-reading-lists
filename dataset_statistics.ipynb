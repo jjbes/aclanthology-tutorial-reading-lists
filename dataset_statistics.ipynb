{
 "cells": [
  {
   "cell_type": "markdown",
   "id": "94d80fe9-5013-4c1c-b913-6443d1336b0a",
   "metadata": {},
   "source": [
    "# Dataset statistics"
   ]
  },
  {
   "cell_type": "code",
   "execution_count": 13,
   "id": "8ebecbb9-2e6e-4463-b371-e648b6a6a24e",
   "metadata": {
    "jupyter": {
     "source_hidden": true
    }
   },
   "outputs": [],
   "source": [
    "import ast\n",
    "import pandas as pd\n",
    "import numpy as np\n",
    "import matplotlib.pyplot as plt\n",
    "\n",
    "\"\"\" Styling for the plot \"\"\"\n",
    "def setup_axes(ax, xlabel: str, ylabel: str) -> None:\n",
    "    ax.spines['top'].set_visible(False)\n",
    "    ax.spines['right'].set_visible(False)\n",
    "    ax.set_xlabel(xlabel, fontsize=\"x-large\", fontfamily=\"Helvetica Neue\")\n",
    "    ax.set_ylabel(ylabel, fontsize=\"x-large\", fontfamily=\"Helvetica Neue\")\n",
    "    ax.tick_params(axis='both', which='major', labelsize=\"x-large\", labelfontfamily=\"Helvetica Neue\", direction=\"out\")\n",
    "\n",
    "\"\"\" Draw a histogram plot \"\"\"  \n",
    "def display_histogram(weights: list[float], bins: list[float], xlabel: str = \"\", ylabel: str = \"\", figsize: tuple = (12, 6), color: str = '#18dcff') -> None:\n",
    "    fig, ax = plt.subplots(figsize=figsize)\n",
    "    ax.hist(bins[:-1], bins - 0.5, weights=weights, align='mid', color=color, width=0.95)\n",
    "    \n",
    "    # Add bar labels\n",
    "    for container in ax.containers:\n",
    "        ax.bar_label(container, padding=3, fontweight=\"bold\", fontsize=\"large\", color=color)\n",
    "    \n",
    "    setup_axes(ax, xlabel, ylabel)\n",
    "    ax.set_xticks(range(np.min(bins),np.max(bins),1))  # Adjust x-ticks specific to histogram\n",
    "    ax.set_yticks(range(np.min(weights),np.max(weights)+5,5))  # Adjust x-ticks specific to histogram\n",
    "    plt.show()\n",
    "    \n",
    "\"\"\" Draw a bar plot \"\"\"  \n",
    "def display_bar(unique: list[str], counts: list[int], xlabel: str = \"\", ylabel: str = \"\", figsize: tuple = (12, 6), color: str = '#18dcff') -> None:\n",
    "    fig, ax = plt.subplots(figsize=figsize)\n",
    "    ax.bar(unique, counts, color=color)\n",
    "    \n",
    "    # Add bar labels\n",
    "    for container in ax.containers:\n",
    "        ax.bar_label(container, padding=3, fontweight=\"bold\", fontsize=\"x-small\", color=color)\n",
    "\n",
    "    setup_axes(ax, xlabel, ylabel)\n",
    "    plt.show()"
   ]
  },
  {
   "cell_type": "markdown",
   "id": "87f7bd56-f50d-4ef1-b600-85155d5e9198",
   "metadata": {},
   "source": [
    "## Reading lists"
   ]
  },
  {
   "cell_type": "code",
   "execution_count": 2,
   "id": "bd961577-9a76-4cda-a614-343cdd113c15",
   "metadata": {
    "scrolled": true
   },
   "outputs": [
    {
     "data": {
      "text/html": [
       "<div>\n",
       "<style scoped>\n",
       "    .dataframe tbody tr th:only-of-type {\n",
       "        vertical-align: middle;\n",
       "    }\n",
       "\n",
       "    .dataframe tbody tr th {\n",
       "        vertical-align: top;\n",
       "    }\n",
       "\n",
       "    .dataframe thead th {\n",
       "        text-align: right;\n",
       "    }\n",
       "</style>\n",
       "<table border=\"1\" class=\"dataframe\">\n",
       "  <thead>\n",
       "    <tr style=\"text-align: right;\">\n",
       "      <th></th>\n",
       "      <th>id</th>\n",
       "      <th>title</th>\n",
       "      <th>abstract</th>\n",
       "      <th>year</th>\n",
       "      <th>url</th>\n",
       "      <th>venues</th>\n",
       "      <th>reading_list</th>\n",
       "    </tr>\n",
       "  </thead>\n",
       "  <tbody>\n",
       "    <tr>\n",
       "      <th>0</th>\n",
       "      <td>C16-3001</td>\n",
       "      <td>Compositional Distributional Models of Meaning</td>\n",
       "      <td>Compositional distributional models of meaning...</td>\n",
       "      <td>2016</td>\n",
       "      <td>https://aclanthology.org/C16-3001/</td>\n",
       "      <td>COLING</td>\n",
       "      <td>[{'paperId': '37efe2ef1b9d27cc598361a8013ec888...</td>\n",
       "    </tr>\n",
       "    <tr>\n",
       "      <th>1</th>\n",
       "      <td>P19-4004</td>\n",
       "      <td>Computational Analysis of Political Texts: Bri...</td>\n",
       "      <td>In the last twenty years, political scientists...</td>\n",
       "      <td>2019</td>\n",
       "      <td>https://aclanthology.org/P19-4004/</td>\n",
       "      <td>ACL</td>\n",
       "      <td>[{'paperId': 'b9921fb4d1448058642897797e77bdaf...</td>\n",
       "    </tr>\n",
       "    <tr>\n",
       "      <th>2</th>\n",
       "      <td>2020.acl-tutorials.1</td>\n",
       "      <td>Interpretability and Analysis in Neural NLP</td>\n",
       "      <td>While deep learning has transformed the natura...</td>\n",
       "      <td>2020</td>\n",
       "      <td>https://aclanthology.org/2020.acl-tutorials.1</td>\n",
       "      <td>ACL</td>\n",
       "      <td>[{'paperId': '668f42a4d4094f0a66d402a16087e142...</td>\n",
       "    </tr>\n",
       "    <tr>\n",
       "      <th>3</th>\n",
       "      <td>2020.acl-tutorials.2</td>\n",
       "      <td>Integrating Ethics into the NLP Curriculum</td>\n",
       "      <td>To raise awareness among future NLP practition...</td>\n",
       "      <td>2020</td>\n",
       "      <td>https://aclanthology.org/2020.acl-tutorials.2</td>\n",
       "      <td>ACL</td>\n",
       "      <td>[{'paperId': '0e661bd2cfe94ed58e4e2abc1409c75b...</td>\n",
       "    </tr>\n",
       "    <tr>\n",
       "      <th>4</th>\n",
       "      <td>2020.acl-tutorials.3</td>\n",
       "      <td>Achieving Common Ground in Multi-modal Dialogue</td>\n",
       "      <td>All communication aims at achieving common gro...</td>\n",
       "      <td>2020</td>\n",
       "      <td>https://aclanthology.org/2020.acl-tutorials.3</td>\n",
       "      <td>ACL</td>\n",
       "      <td>[{'paperId': '5a9cac54de14e58697d0315fe3c01f3d...</td>\n",
       "    </tr>\n",
       "    <tr>\n",
       "      <th>...</th>\n",
       "      <td>...</td>\n",
       "      <td>...</td>\n",
       "      <td>...</td>\n",
       "      <td>...</td>\n",
       "      <td>...</td>\n",
       "      <td>...</td>\n",
       "      <td>...</td>\n",
       "    </tr>\n",
       "    <tr>\n",
       "      <th>80</th>\n",
       "      <td>2024.lrec-tutorials.11</td>\n",
       "      <td>Tutorial Proposal: Hallucination in Large Lang...</td>\n",
       "      <td>In the fast-paced domain of Large Language Mod...</td>\n",
       "      <td>2024</td>\n",
       "      <td>https://aclanthology.org/2024.lrec-tutorials.11</td>\n",
       "      <td>LREC</td>\n",
       "      <td>[{'paperId': 'd00735241af700d21762d2f3ca00d920...</td>\n",
       "    </tr>\n",
       "    <tr>\n",
       "      <th>81</th>\n",
       "      <td>2024.lrec-tutorials.13</td>\n",
       "      <td>Knowledge-enhanced Response Generation in Dial...</td>\n",
       "      <td>This tutorial provides an in-depth exploration...</td>\n",
       "      <td>2024</td>\n",
       "      <td>https://aclanthology.org/2024.lrec-tutorials.13</td>\n",
       "      <td>LREC</td>\n",
       "      <td>[{'paperId': 'a6401e102c03a441992b3e45f7b63eec...</td>\n",
       "    </tr>\n",
       "    <tr>\n",
       "      <th>82</th>\n",
       "      <td>2024.naacl-tutorials.2</td>\n",
       "      <td>Combating Security and Privacy Issues in the E...</td>\n",
       "      <td>This tutorial seeks to provide a systematic su...</td>\n",
       "      <td>2024</td>\n",
       "      <td>https://aclanthology.org/2024.naacl-tutorials.2</td>\n",
       "      <td>NAACL</td>\n",
       "      <td>[{'paperId': '3a1f8829e641b46f661775f64a7f27b9...</td>\n",
       "    </tr>\n",
       "    <tr>\n",
       "      <th>83</th>\n",
       "      <td>2024.naacl-tutorials.4</td>\n",
       "      <td>From Text to Context: Contextualizing Language...</td>\n",
       "      <td>Aimed at the NLP researchers or practitioners ...</td>\n",
       "      <td>2024</td>\n",
       "      <td>https://aclanthology.org/2024.naacl-tutorials.4</td>\n",
       "      <td>NAACL</td>\n",
       "      <td>[{'paperId': 'bdb73be49c4fdcbd0c79ca62e5703155...</td>\n",
       "    </tr>\n",
       "    <tr>\n",
       "      <th>84</th>\n",
       "      <td>2024.naacl-tutorials.5</td>\n",
       "      <td>Human-AI Interaction in the Age of LLMs</td>\n",
       "      <td>Recently, the development of Large Language Mo...</td>\n",
       "      <td>2024</td>\n",
       "      <td>https://aclanthology.org/2024.naacl-tutorials.5</td>\n",
       "      <td>NAACL</td>\n",
       "      <td>[{'paperId': '529025645c70a935221bd434484faee6...</td>\n",
       "    </tr>\n",
       "  </tbody>\n",
       "</table>\n",
       "<p>85 rows × 7 columns</p>\n",
       "</div>"
      ],
      "text/plain": [
       "                        id                                              title  \\\n",
       "0                 C16-3001     Compositional Distributional Models of Meaning   \n",
       "1                 P19-4004  Computational Analysis of Political Texts: Bri...   \n",
       "2     2020.acl-tutorials.1        Interpretability and Analysis in Neural NLP   \n",
       "3     2020.acl-tutorials.2         Integrating Ethics into the NLP Curriculum   \n",
       "4     2020.acl-tutorials.3    Achieving Common Ground in Multi-modal Dialogue   \n",
       "..                     ...                                                ...   \n",
       "80  2024.lrec-tutorials.11  Tutorial Proposal: Hallucination in Large Lang...   \n",
       "81  2024.lrec-tutorials.13  Knowledge-enhanced Response Generation in Dial...   \n",
       "82  2024.naacl-tutorials.2  Combating Security and Privacy Issues in the E...   \n",
       "83  2024.naacl-tutorials.4  From Text to Context: Contextualizing Language...   \n",
       "84  2024.naacl-tutorials.5            Human-AI Interaction in the Age of LLMs   \n",
       "\n",
       "                                             abstract  year  \\\n",
       "0   Compositional distributional models of meaning...  2016   \n",
       "1   In the last twenty years, political scientists...  2019   \n",
       "2   While deep learning has transformed the natura...  2020   \n",
       "3   To raise awareness among future NLP practition...  2020   \n",
       "4   All communication aims at achieving common gro...  2020   \n",
       "..                                                ...   ...   \n",
       "80  In the fast-paced domain of Large Language Mod...  2024   \n",
       "81  This tutorial provides an in-depth exploration...  2024   \n",
       "82  This tutorial seeks to provide a systematic su...  2024   \n",
       "83  Aimed at the NLP researchers or practitioners ...  2024   \n",
       "84  Recently, the development of Large Language Mo...  2024   \n",
       "\n",
       "                                                url  venues  \\\n",
       "0                https://aclanthology.org/C16-3001/  COLING   \n",
       "1                https://aclanthology.org/P19-4004/     ACL   \n",
       "2     https://aclanthology.org/2020.acl-tutorials.1     ACL   \n",
       "3     https://aclanthology.org/2020.acl-tutorials.2     ACL   \n",
       "4     https://aclanthology.org/2020.acl-tutorials.3     ACL   \n",
       "..                                              ...     ...   \n",
       "80  https://aclanthology.org/2024.lrec-tutorials.11    LREC   \n",
       "81  https://aclanthology.org/2024.lrec-tutorials.13    LREC   \n",
       "82  https://aclanthology.org/2024.naacl-tutorials.2   NAACL   \n",
       "83  https://aclanthology.org/2024.naacl-tutorials.4   NAACL   \n",
       "84  https://aclanthology.org/2024.naacl-tutorials.5   NAACL   \n",
       "\n",
       "                                         reading_list  \n",
       "0   [{'paperId': '37efe2ef1b9d27cc598361a8013ec888...  \n",
       "1   [{'paperId': 'b9921fb4d1448058642897797e77bdaf...  \n",
       "2   [{'paperId': '668f42a4d4094f0a66d402a16087e142...  \n",
       "3   [{'paperId': '0e661bd2cfe94ed58e4e2abc1409c75b...  \n",
       "4   [{'paperId': '5a9cac54de14e58697d0315fe3c01f3d...  \n",
       "..                                                ...  \n",
       "80  [{'paperId': 'd00735241af700d21762d2f3ca00d920...  \n",
       "81  [{'paperId': 'a6401e102c03a441992b3e45f7b63eec...  \n",
       "82  [{'paperId': '3a1f8829e641b46f661775f64a7f27b9...  \n",
       "83  [{'paperId': 'bdb73be49c4fdcbd0c79ca62e5703155...  \n",
       "84  [{'paperId': '529025645c70a935221bd434484faee6...  \n",
       "\n",
       "[85 rows x 7 columns]"
      ]
     },
     "execution_count": 2,
     "metadata": {},
     "output_type": "execute_result"
    }
   ],
   "source": [
    "reading_lists = pd.read_csv(\"./reading_lists.csv\")\n",
    "reading_lists['reading_list'] = reading_lists['reading_list'].apply(ast.literal_eval); reading_lists"
   ]
  },
  {
   "cell_type": "markdown",
   "id": "340847d0-2320-44e1-8dd8-975ddf79e30b",
   "metadata": {},
   "source": [
    "## Venues and conferences"
   ]
  },
  {
   "cell_type": "code",
   "execution_count": 3,
   "id": "112ccc49-5846-402f-8cf3-1e3b0d4a1b38",
   "metadata": {},
   "outputs": [
    {
     "name": "stdout",
     "output_type": "stream",
     "text": [
      "9 venues:\n",
      " ['COLING' 'ACL' 'EMNLP' 'ACL, IJCNLP' 'EACL' 'NAACL' 'AACL, IJCNLP'\n",
      " 'IJCNLP, AACL' 'LREC']\n",
      "\n",
      "20 conferences:\n",
      " ['COLING 2016' 'ACL 2019' 'ACL 2020' 'COLING 2020' 'EMNLP 2020'\n",
      " 'ACL, IJCNLP 2021' 'EACL 2021' 'EMNLP 2021' 'NAACL 2021'\n",
      " 'AACL, IJCNLP 2022' 'ACL 2022' 'EMNLP 2022' 'NAACL 2022' 'ACL 2023'\n",
      " 'EACL 2023' 'EMNLP 2023' 'IJCNLP, AACL 2023' 'EACL 2024' 'LREC 2024'\n",
      " 'NAACL 2024']\n"
     ]
    }
   ],
   "source": [
    "venues = (reading_lists['venues']).unique()\n",
    "print(f\"{len(venues)} venues:\\n {venues}\\n\")\n",
    "\n",
    "confs = (reading_lists['venues'] + ' '  + reading_lists['year'].astype(str)).unique()\n",
    "print(f\"{len(confs)} conferences:\\n {confs}\")"
   ]
  },
  {
   "cell_type": "markdown",
   "id": "2f929bf0-374f-468f-8fd2-1c6879b2924e",
   "metadata": {},
   "source": [
    "## Lists items histogram"
   ]
  },
  {
   "cell_type": "code",
   "execution_count": 14,
   "id": "4e51264f-d7e6-4ecd-87ee-c310505e2530",
   "metadata": {},
   "outputs": [
    {
     "data": {
      "image/png": "[encoded data removed]",
      "text/plain": [
       "<Figure size 1200x600 with 1 Axes>"
      ]
     },
     "metadata": {},
     "output_type": "display_data"
    }
   ],
   "source": [
    "sizes = [len(v) for v in reading_lists['reading_list']]\n",
    "display_histogram(*np.histogram(sizes, bins=range(3,22)), xlabel = \"Reading list size\", ylabel = \"Number of reading lists\")"
   ]
  },
  {
   "cell_type": "code",
   "execution_count": 5,
   "id": "0562291f-3f88-40c5-b4d2-eae8bb8f7cc4",
   "metadata": {},
   "outputs": [
    {
     "name": "stdout",
     "output_type": "stream",
     "text": [
      "Average size of lists is 8, with a minimum of 3 and a maximum of 19.\n"
     ]
    }
   ],
   "source": [
    "#Avg references\n",
    "sizes = []\n",
    "for _, row in reading_lists.iterrows():\n",
    "    sizes.append(len(row[\"reading_list\"]))\n",
    "    \n",
    "print(f\"Average size of lists is {round(np.mean(sizes))}, with a minimum of {np.min(sizes)} and a maximum of {np.max(sizes)}.\")"
   ]
  },
  {
   "cell_type": "markdown",
   "id": "7e8b1cc8-c71b-40f8-9ae4-25abf46174b8",
   "metadata": {},
   "source": [
    "## References stats"
   ]
  },
  {
   "cell_type": "code",
   "execution_count": 6,
   "id": "73672150-5a6e-4fd9-b86e-c87e1b769072",
   "metadata": {},
   "outputs": [
    {
     "name": "stdout",
     "output_type": "stream",
     "text": [
      "Some referenced articles don't provide an abstract:\n",
      " ['Last Words: Reviewing the Reviewers', 'Double-blind peer review and gender publication bias', 'Peer review — reviewed', 'Last Words: Breaking News: Changing Attitudes and Practices', 'Interpreting Motion - Grounded Representations for Spatial Language', 'Spatial Role Labeling Annotation Scheme', 'Last Words: Reviewing the Reviewers', 'Double-blind peer review and gender publication bias', 'Last Words: On Becoming a Discipline', 'Last Words: Breaking News: Changing Attitudes and Practices']\n"
     ]
    }
   ],
   "source": [
    "missing_abs = []\n",
    "for _, row in reading_lists.iterrows():\n",
    "    for reference in row[\"reading_list\"]:\n",
    "        if \"abstract\" not in reference or reference['abstract'] == '': \n",
    "            missing_abs.append(reference[\"title\"])\n",
    "            \n",
    "print(f\"Some referenced articles don't provide an abstract:\\n {missing_abs}\")"
   ]
  },
  {
   "cell_type": "code",
   "execution_count": 7,
   "id": "f6bb8a62-4089-4c25-a923-4c32f5858129",
   "metadata": {},
   "outputs": [
    {
     "name": "stdout",
     "output_type": "stream",
     "text": [
      "Out of 701 references, 627 are unique.\n"
     ]
    }
   ],
   "source": [
    "references = []\n",
    "for _, row in reading_lists.iterrows():\n",
    "    for reference in row[\"reading_list\"]:\n",
    "        references.append(reference[\"paperId\"])\n",
    "print(f\"Out of {len(references)} references, {len(set(references))} are unique.\")"
   ]
  },
  {
   "cell_type": "markdown",
   "id": "67f41cd6-4c72-48a5-b8e1-7ad759eec37b",
   "metadata": {},
   "source": [
    "## Years of publication"
   ]
  },
  {
   "cell_type": "code",
   "execution_count": 16,
   "id": "4f7664e3-5235-4cb4-abc6-586c05206cf4",
   "metadata": {},
   "outputs": [
    {
     "name": "stdout",
     "output_type": "stream",
     "text": [
      "Average publication year of references is 2018, for oldest published reference in 1977 and more recent in of 2023.\n"
     ]
    },
    {
     "data": {
      "image/png": "[encoded data removed]",
      "text/plain": [
       "<Figure size 1200x600 with 1 Axes>"
      ]
     },
     "metadata": {},
     "output_type": "display_data"
    }
   ],
   "source": [
    "unique_references = []\n",
    "years = []\n",
    "for _, row in reading_lists.iterrows():\n",
    "    for reference in row[\"reading_list\"]:\n",
    "        if reference[\"paperId\"] not in [ref[\"paperId\"] for ref in unique_references]:\n",
    "            unique_references.append(reference)\n",
    "            years.append(reference[\"year\"])\n",
    "print(f\"Average publication year of references is {round(np.mean(years))}, for oldest published reference in {np.min(years)} and more recent in of {np.max(years)}.\")\n",
    "\n",
    "display_bar(*np.unique(years, return_counts=True), ylabel = \"Number of referenced articles\")"
   ]
  },
  {
   "cell_type": "markdown",
   "id": "65bd42b7-30e7-4426-bafa-ad0e057bfc82",
   "metadata": {},
   "source": [
    "## Sections Stats"
   ]
  },
  {
   "cell_type": "code",
   "execution_count": 35,
   "id": "397b2b41-9b79-460f-8657-eb95cd3941cb",
   "metadata": {
    "scrolled": true
   },
   "outputs": [
    {
     "name": "stdout",
     "output_type": "stream",
     "text": [
      "Out of 85, 58 have no section, 24 have 1-level sections and 3 have 2-level sections\n"
     ]
    }
   ],
   "source": [
    "nb_no_section = 0\n",
    "section = 0\n",
    "subsection = 0\n",
    "\n",
    "for reading_list in reading_lists[\"reading_list\"].to_list():\n",
    "    sections = [reference[\"section\"] for reference in reading_list if reference[\"section\"]]\n",
    "    subsections = [reference[\"subsection\"] for reference in reading_list if reference[\"subsection\"]]\n",
    "    if not len(sections) and not len(subsections):\n",
    "        nb_no_section +=1\n",
    "    elif len(sections) and not len(subsections):\n",
    "        section +=1\n",
    "    elif len(sections) and len(subsections):\n",
    "        subsection +=1\n",
    "\n",
    "print(f\"Out of {len(reading_lists)}, {nb_no_section} have no section, {section} have 1-level sections and {subsection} have 2-level sections\")"
   ]
  }
 ],
 "metadata": {
  "kernelspec": {
   "display_name": "Python 3 (ipykernel)",
   "language": "python",
   "name": "python3"
  },
  "language_info": {
   "codemirror_mode": {
    "name": "ipython",
    "version": 3
   },
   "file_extension": ".py",
   "mimetype": "text/x-python",
   "name": "python",
   "nbconvert_exporter": "python",
   "pygments_lexer": "ipython3",
   "version": "3.11.8"
  }
 },
 "nbformat": 4,
 "nbformat_minor": 5
}
