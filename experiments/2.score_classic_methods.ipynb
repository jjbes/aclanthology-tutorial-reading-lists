{
 "cells": [
  {
   "cell_type": "markdown",
   "id": "ae60a34b-3a46-450c-b445-63826f0635a8",
   "metadata": {},
   "source": [
    "# 2. Score classic methods"
   ]
  },
  {
   "cell_type": "code",
   "execution_count": 1,
   "id": "48e14644-1840-40a2-9604-860b79025e61",
   "metadata": {},
   "outputs": [],
   "source": [
    "import ast\n",
    "import pandas as pd\n",
    "\n",
    "from common import score_models, clean_string, load_preds"
   ]
  },
  {
   "cell_type": "code",
   "execution_count": 2,
   "id": "22d1482b-72e5-40c8-ad15-865981bddf5b",
   "metadata": {},
   "outputs": [],
   "source": [
    "reading_lists = pd.read_csv(\"../reading_lists.csv\")\n",
    "reading_lists['reading_list'] = reading_lists['reading_list'].apply(ast.literal_eval)\n",
    "\n",
    "trues = { id_:[clean_string(ref[\"title\"]) for ref in references if ref[\"acl_id\"]] for id_, references in zip(reading_lists[\"id\"], reading_lists[\"reading_list\"]) }"
   ]
  },
  {
   "cell_type": "code",
   "execution_count": 3,
   "id": "988c675f-e4ea-42d5-b90d-63f36aaafad4",
   "metadata": {},
   "outputs": [],
   "source": [
    "models_paths = {\n",
    "    \"Semantic Scholar (Any)\": \"classic_methods/preds/semantic_scholar_any\",\n",
    "    \"Semantic Scholar (ACL)\": \"classic_methods/preds/semantic_scholar_acl\",\n",
    "    \"BM25\": \"classic_methods/preds/bm25\",\n",
    "    \"SPECTER2\": \"classic_methods/preds/specterv2\",\n",
    "}"
   ]
  },
  {
   "cell_type": "markdown",
   "id": "3860b225-7269-4710-8128-37e897b3392c",
   "metadata": {},
   "source": [
    "## Default comparison"
   ]
  },
  {
   "cell_type": "code",
   "execution_count": 8,
   "id": "a77cee29-b141-4def-8e66-653885263da9",
   "metadata": {},
   "outputs": [
    {
     "data": {
      "text/html": [
       "<div>\n",
       "<style scoped>\n",
       "    .dataframe tbody tr th:only-of-type {\n",
       "        vertical-align: middle;\n",
       "    }\n",
       "\n",
       "    .dataframe tbody tr th {\n",
       "        vertical-align: top;\n",
       "    }\n",
       "\n",
       "    .dataframe thead tr th {\n",
       "        text-align: left;\n",
       "    }\n",
       "</style>\n",
       "<table border=\"1\" class=\"dataframe\">\n",
       "  <thead>\n",
       "    <tr>\n",
       "      <th></th>\n",
       "      <th colspan=\"4\" halign=\"left\">recall</th>\n",
       "      <th colspan=\"4\" halign=\"left\">ndcg</th>\n",
       "      <th colspan=\"4\" halign=\"left\">mrr</th>\n",
       "    </tr>\n",
       "    <tr>\n",
       "      <th></th>\n",
       "      <th>A1</th>\n",
       "      <th>A2</th>\n",
       "      <th>A3</th>\n",
       "      <th>Mean</th>\n",
       "      <th>A1</th>\n",
       "      <th>A2</th>\n",
       "      <th>A3</th>\n",
       "      <th>Mean</th>\n",
       "      <th>A1</th>\n",
       "      <th>A2</th>\n",
       "      <th>A3</th>\n",
       "      <th>Mean</th>\n",
       "    </tr>\n",
       "  </thead>\n",
       "  <tbody>\n",
       "    <tr>\n",
       "      <th>Semantic Scholar (Any)</th>\n",
       "      <td>4.249837</td>\n",
       "      <td>2.720157</td>\n",
       "      <td>6.673190</td>\n",
       "      <td>4.547728</td>\n",
       "      <td>2.130474</td>\n",
       "      <td>1.506814</td>\n",
       "      <td>3.930081</td>\n",
       "      <td>2.522456</td>\n",
       "      <td>2.463178</td>\n",
       "      <td>1.955588</td>\n",
       "      <td>5.617313</td>\n",
       "      <td>3.345360</td>\n",
       "    </tr>\n",
       "    <tr>\n",
       "      <th>Semantic Scholar (ACL)</th>\n",
       "      <td>8.421396</td>\n",
       "      <td>5.225049</td>\n",
       "      <td>10.202218</td>\n",
       "      <td>7.949554</td>\n",
       "      <td>5.526876</td>\n",
       "      <td>3.714255</td>\n",
       "      <td>7.488272</td>\n",
       "      <td>5.576468</td>\n",
       "      <td>7.633369</td>\n",
       "      <td>5.254403</td>\n",
       "      <td>11.205697</td>\n",
       "      <td>8.031156</td>\n",
       "    </tr>\n",
       "    <tr>\n",
       "      <th>BM25</th>\n",
       "      <td>8.873668</td>\n",
       "      <td>9.174821</td>\n",
       "      <td>11.156773</td>\n",
       "      <td>9.735087</td>\n",
       "      <td>5.722704</td>\n",
       "      <td>5.467598</td>\n",
       "      <td>6.581614</td>\n",
       "      <td>5.923972</td>\n",
       "      <td>8.765831</td>\n",
       "      <td>6.271754</td>\n",
       "      <td>9.199094</td>\n",
       "      <td>8.078893</td>\n",
       "    </tr>\n",
       "    <tr>\n",
       "      <th>SPECTER2</th>\n",
       "      <td>5.787671</td>\n",
       "      <td>5.676778</td>\n",
       "      <td>8.245864</td>\n",
       "      <td>6.570104</td>\n",
       "      <td>3.064759</td>\n",
       "      <td>3.397064</td>\n",
       "      <td>4.709815</td>\n",
       "      <td>3.723880</td>\n",
       "      <td>3.333865</td>\n",
       "      <td>4.578341</td>\n",
       "      <td>5.763281</td>\n",
       "      <td>4.558496</td>\n",
       "    </tr>\n",
       "  </tbody>\n",
       "</table>\n",
       "</div>"
      ],
      "text/plain": [
       "                          recall                                     ndcg  \\\n",
       "                              A1        A2         A3      Mean        A1   \n",
       "Semantic Scholar (Any)  4.249837  2.720157   6.673190  4.547728  2.130474   \n",
       "Semantic Scholar (ACL)  8.421396  5.225049  10.202218  7.949554  5.526876   \n",
       "BM25                    8.873668  9.174821  11.156773  9.735087  5.722704   \n",
       "SPECTER2                5.787671  5.676778   8.245864  6.570104  3.064759   \n",
       "\n",
       "                                                           mrr            \\\n",
       "                              A2        A3      Mean        A1        A2   \n",
       "Semantic Scholar (Any)  1.506814  3.930081  2.522456  2.463178  1.955588   \n",
       "Semantic Scholar (ACL)  3.714255  7.488272  5.576468  7.633369  5.254403   \n",
       "BM25                    5.467598  6.581614  5.923972  8.765831  6.271754   \n",
       "SPECTER2                3.397064  4.709815  3.723880  3.333865  4.578341   \n",
       "\n",
       "                                             \n",
       "                               A3      Mean  \n",
       "Semantic Scholar (Any)   5.617313  3.345360  \n",
       "Semantic Scholar (ACL)  11.205697  8.031156  \n",
       "BM25                     9.199094  8.078893  \n",
       "SPECTER2                 5.763281  4.558496  "
      ]
     },
     "execution_count": 8,
     "metadata": {},
     "output_type": "execute_result"
    }
   ],
   "source": [
    "table = score_models(trues, models_paths.keys(), models_paths.values(), split_by_years=False, use_title_instead_of_id=True); table \n",
    "#print(table.to_latex(float_format=\"{:0.1f}\".format))"
   ]
  },
  {
   "cell_type": "markdown",
   "id": "850894ee-d890-439a-b8ba-c93dec8975ae",
   "metadata": {},
   "source": [
    "## Matches of correct prediction"
   ]
  },
  {
   "cell_type": "code",
   "execution_count": 5,
   "id": "7f7e6b19-0b1f-4a68-b593-57721b8b8fb3",
   "metadata": {},
   "outputs": [],
   "source": [
    "def match(trues, preds1, preds2):\n",
    "    match = 0\n",
    "    size = 0\n",
    "    for k, trues_v in trues.items():\n",
    "        if trues_v != []:\n",
    "            match1 = set(dict.fromkeys(trues_v)) & set(dict.fromkeys(preds1[k]))\n",
    "            match2 = set(dict.fromkeys(trues_v)) & set(dict.fromkeys(preds2[k]))\n",
    "            match += len(match1 & match2)\n",
    "            size += 1\n",
    "    return match/size"
   ]
  },
  {
   "cell_type": "code",
   "execution_count": 6,
   "id": "2389c914-6d68-45de-86fb-ee31ebecb1d2",
   "metadata": {},
   "outputs": [
    {
     "data": {
      "text/plain": [
       "0.1050228310502283"
      ]
     },
     "execution_count": 6,
     "metadata": {},
     "output_type": "execute_result"
    }
   ],
   "source": [
    "bm25_preds = load_preds(\"classic_methods/preds/bm25\", use_title_instead_of_id=True)\n",
    "specter2_preds = load_preds(\"classic_methods/preds/specterv2\", use_title_instead_of_id=True)\n",
    "\n",
    "(match(trues, bm25_preds[\"A1\"], specter2_preds[\"A1\"]) +\\\n",
    "match(trues, bm25_preds[\"A2\"], specter2_preds[\"A2\"]) +\\\n",
    "match(trues, bm25_preds[\"A3\"], specter2_preds[\"A3\"])) /3"
   ]
  }
 ],
 "metadata": {
  "kernelspec": {
   "display_name": "Python 3 (ipykernel)",
   "language": "python",
   "name": "python3"
  },
  "language_info": {
   "codemirror_mode": {
    "name": "ipython",
    "version": 3
   },
   "file_extension": ".py",
   "mimetype": "text/x-python",
   "name": "python",
   "nbconvert_exporter": "python",
   "pygments_lexer": "ipython3",
   "version": "3.11.8"
  }
 },
 "nbformat": 4,
 "nbformat_minor": 5
}
