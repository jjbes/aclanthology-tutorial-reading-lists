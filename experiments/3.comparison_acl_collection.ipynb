{
 "cells": [
  {
   "cell_type": "markdown",
   "id": "ae60a34b-3a46-450c-b445-63826f0635a8",
   "metadata": {},
   "source": [
    "# Results"
   ]
  },
  {
   "cell_type": "code",
   "execution_count": 24,
   "id": "e4db5358-87f1-4296-bad4-bc6dfb085d56",
   "metadata": {},
   "outputs": [],
   "source": [
    "import re\n",
    "import ast\n",
    "import json\n",
    "import math\n",
    "import functools\n",
    "import operator\n",
    "import collections\n",
    "import numpy as np\n",
    "import pandas as pd\n",
    "from pathlib import Path\n",
    "from collections import defaultdict\n",
    "from metrics import recall, mrr, ndcg, score"
   ]
  },
  {
   "cell_type": "code",
   "execution_count": 25,
   "id": "33b2e808-bb23-49b5-8e32-12ba64ce4908",
   "metadata": {},
   "outputs": [],
   "source": [
    "def clean_string(string):\n",
    "    return re.sub(r'\\W+','', string).lower() \n",
    "\n",
    "def compute_results(trues, preds_annots):\n",
    "    data = {}\n",
    "    for k, preds in preds_annots.items():\n",
    "        data[k] = score(trues, preds, [recall, ndcg, mrr], k=20)\n",
    "    df = pd.DataFrame(data).transpose()\n",
    "    df.loc['Mean'] = df.mean()\n",
    "    return df.round(1)"
   ]
  },
  {
   "cell_type": "markdown",
   "id": "5352d8e1-1661-42d6-be7e-33ff123b2a6c",
   "metadata": {},
   "source": [
    "# Comparison of basic approaches and search engine on ACL Anthology dataset"
   ]
  },
  {
   "cell_type": "code",
   "execution_count": 26,
   "id": "f1ca5b0b-7ed5-41b2-a752-d5f9ceab1fc3",
   "metadata": {},
   "outputs": [],
   "source": [
    "reading_lists = pd.read_csv(\"../reading_lists.csv\")\n",
    "reading_lists['reading_list'] = reading_lists['reading_list'].apply(ast.literal_eval)\n",
    "\n",
    "preds_semantic_scholar_annot1 = { id_:[clean_string(ref[\"title\"]) for ref in references] for id_, references in json.loads(Path('preds_acl_collection/preds/semantic_scholar/preds_annot1.json').read_text()).items()}\n",
    "preds_semantic_scholar_annot2 = { id_:[clean_string(ref[\"title\"]) for ref in references] for id_, references in json.loads(Path('preds_acl_collection/preds/semantic_scholar/preds_annot2.json').read_text()).items()}\n",
    "preds_semantic_scholar_annot3 = { id_:[clean_string(ref[\"title\"]) for ref in references] for id_, references in json.loads(Path('preds_acl_collection/preds/semantic_scholar/preds_annot3.json').read_text()).items()}\n",
    "\n",
    "preds_bm25_annot1 = { id_:[clean_string(ref[\"title\"]) for ref in references] for id_, references in  json.loads(Path('preds_acl_collection/preds/bm25/preds_annot1.json').read_text()).items()}\n",
    "preds_bm25_annot2 = { id_:[clean_string(ref[\"title\"]) for ref in references] for id_, references in  json.loads(Path('preds_acl_collection/preds/bm25/preds_annot2.json').read_text()).items()}\n",
    "preds_bm25_annot3 = { id_:[clean_string(ref[\"title\"]) for ref in references] for id_, references in  json.loads(Path('preds_acl_collection/preds/bm25/preds_annot3.json').read_text()).items()}\n",
    "\n",
    "preds_specterv2_annot1 = { id_:[clean_string(ref[\"title\"]) for ref in references] for id_, references in  json.loads(Path('preds_acl_collection/preds/specterv2/preds_annot1.json').read_text()).items()}\n",
    "preds_specterv2_annot2 = { id_:[clean_string(ref[\"title\"]) for ref in references] for id_, references in  json.loads(Path('preds_acl_collection/preds/specterv2/preds_annot2.json').read_text()).items()}\n",
    "preds_specterv2_annot3 = { id_:[clean_string(ref[\"title\"]) for ref in references] for id_, references in  json.loads(Path('preds_acl_collection/preds/specterv2/preds_annot3.json').read_text()).items()}\n",
    "\n",
    "trues = { id_:[clean_string(ref[\"title\"]) for ref in references if ref[\"acl_id\"]] for id_, references in zip(reading_lists[\"id\"], reading_lists[\"reading_list\"]) }\n",
    "\n",
    "preds = {\n",
    "    \"PhD Student\": [preds_semantic_scholar_annot1, preds_bm25_annot1, preds_specterv2_annot1], \n",
    "    \"Expert-Level\": [preds_semantic_scholar_annot2, preds_bm25_annot2, preds_specterv2_annot2],\n",
    "    \"PhD-Level\": [preds_semantic_scholar_annot3, preds_bm25_annot3, preds_specterv2_annot3]\n",
    "}"
   ]
  },
  {
   "cell_type": "code",
   "execution_count": 33,
   "id": "7dd7b53f-e2f4-4d1e-ab0c-822ebcc883a6",
   "metadata": {},
   "outputs": [
    {
     "data": {
      "text/html": [
       "<div>\n",
       "<style scoped>\n",
       "    .dataframe tbody tr th:only-of-type {\n",
       "        vertical-align: middle;\n",
       "    }\n",
       "\n",
       "    .dataframe tbody tr th {\n",
       "        vertical-align: top;\n",
       "    }\n",
       "\n",
       "    .dataframe thead tr th {\n",
       "        text-align: left;\n",
       "    }\n",
       "</style>\n",
       "<table border=\"1\" class=\"dataframe\">\n",
       "  <thead>\n",
       "    <tr>\n",
       "      <th></th>\n",
       "      <th colspan=\"3\" halign=\"left\">Semantic Scholar</th>\n",
       "      <th colspan=\"3\" halign=\"left\">BM25</th>\n",
       "      <th colspan=\"3\" halign=\"left\">SPECTER2</th>\n",
       "    </tr>\n",
       "    <tr>\n",
       "      <th></th>\n",
       "      <th>recall</th>\n",
       "      <th>ndcg</th>\n",
       "      <th>mrr</th>\n",
       "      <th>recall</th>\n",
       "      <th>ndcg</th>\n",
       "      <th>mrr</th>\n",
       "      <th>recall</th>\n",
       "      <th>ndcg</th>\n",
       "      <th>mrr</th>\n",
       "    </tr>\n",
       "  </thead>\n",
       "  <tbody>\n",
       "    <tr>\n",
       "      <th>PhD Student</th>\n",
       "      <td>8.4</td>\n",
       "      <td>5.5</td>\n",
       "      <td>7.6</td>\n",
       "      <td>8.9</td>\n",
       "      <td>5.7</td>\n",
       "      <td>8.8</td>\n",
       "      <td>5.9</td>\n",
       "      <td>3.1</td>\n",
       "      <td>3.3</td>\n",
       "    </tr>\n",
       "    <tr>\n",
       "      <th>Expert-Level</th>\n",
       "      <td>9.5</td>\n",
       "      <td>7.2</td>\n",
       "      <td>11.0</td>\n",
       "      <td>11.2</td>\n",
       "      <td>6.6</td>\n",
       "      <td>9.2</td>\n",
       "      <td>8.2</td>\n",
       "      <td>4.7</td>\n",
       "      <td>5.8</td>\n",
       "    </tr>\n",
       "    <tr>\n",
       "      <th>PhD-Level</th>\n",
       "      <td>6.7</td>\n",
       "      <td>5.5</td>\n",
       "      <td>8.2</td>\n",
       "      <td>9.2</td>\n",
       "      <td>5.5</td>\n",
       "      <td>6.3</td>\n",
       "      <td>5.7</td>\n",
       "      <td>3.4</td>\n",
       "      <td>4.6</td>\n",
       "    </tr>\n",
       "    <tr>\n",
       "      <th>Mean</th>\n",
       "      <td>8.2</td>\n",
       "      <td>6.1</td>\n",
       "      <td>9.0</td>\n",
       "      <td>9.7</td>\n",
       "      <td>5.9</td>\n",
       "      <td>8.1</td>\n",
       "      <td>6.6</td>\n",
       "      <td>3.7</td>\n",
       "      <td>4.6</td>\n",
       "    </tr>\n",
       "  </tbody>\n",
       "</table>\n",
       "</div>"
      ],
      "text/plain": [
       "             Semantic Scholar              BM25           SPECTER2          \n",
       "                       recall ndcg   mrr recall ndcg  mrr   recall ndcg  mrr\n",
       "PhD Student               8.4  5.5   7.6    8.9  5.7  8.8      5.9  3.1  3.3\n",
       "Expert-Level              9.5  7.2  11.0   11.2  6.6  9.2      8.2  4.7  5.8\n",
       "PhD-Level                 6.7  5.5   8.2    9.2  5.5  6.3      5.7  3.4  4.6\n",
       "Mean                      8.2  6.1   9.0    9.7  5.9  8.1      6.6  3.7  4.6"
      ]
     },
     "execution_count": 33,
     "metadata": {},
     "output_type": "execute_result"
    }
   ],
   "source": [
    "df1 = compute_results(trues, {\"PhD Student\":preds_semantic_scholar_annot1, \"Expert-Level\":preds_semantic_scholar_annot2, \"PhD-Level\":preds_semantic_scholar_annot3})\n",
    "df2 = compute_results(trues, {\"PhD Student\":preds_bm25_annot1, \"Expert-Level\":preds_bm25_annot2, \"PhD-Level\":preds_bm25_annot3})\n",
    "df3 = compute_results(trues, {\"PhD Student\":preds_specterv2_annot1, \"Expert-Level\":preds_specterv2_annot2, \"PhD-Level\":preds_specterv2_annot3})\n",
    "df_engines = pd.concat([df1, df2, df3], axis=1, keys=[\"Semantic Scholar\", \"BM25\", \"SPECTER2\"]); df_engines\n",
    "\n",
    "#print(df_engines.to_latex(float_format=\"{:0.1f}\".format))"
   ]
  },
  {
   "cell_type": "markdown",
   "id": "9e3ac0f3-9b71-4427-976e-5ce7788a4b49",
   "metadata": {},
   "source": [
    "## Matches of correct prediction"
   ]
  },
  {
   "cell_type": "code",
   "execution_count": 28,
   "id": "9ed39484-1562-4f52-9a05-f5ca7c557adf",
   "metadata": {},
   "outputs": [],
   "source": [
    "def match(trues, preds1, preds2):\n",
    "    match = 0\n",
    "    size = 0\n",
    "    for k, trues_v in trues.items():\n",
    "        if trues_v != []:\n",
    "            match1 = set(dict.fromkeys(trues_v)) & set(dict.fromkeys(preds1[k]))\n",
    "            match2 = set(dict.fromkeys(trues_v)) & set(dict.fromkeys(preds2[k]))\n",
    "            match+=len(match1 & match2)\n",
    "            size+=1\n",
    "    return match/size"
   ]
  },
  {
   "cell_type": "code",
   "execution_count": 29,
   "id": "fa6d667d-1d6d-4d8e-b86c-276bafdbfa7b",
   "metadata": {
    "scrolled": true
   },
   "outputs": [
    {
     "data": {
      "text/plain": [
       "0.1050228310502283"
      ]
     },
     "execution_count": 29,
     "metadata": {},
     "output_type": "execute_result"
    }
   ],
   "source": [
    "(match(trues, preds_bm25_annot1, preds_specterv2_annot1) +\\\n",
    "match(trues, preds_bm25_annot2, preds_specterv2_annot2) +\\\n",
    "match(trues, preds_bm25_annot3, preds_specterv2_annot3)) /3"
   ]
  }
 ],
 "metadata": {
  "kernelspec": {
   "display_name": "Python 3 (ipykernel)",
   "language": "python",
   "name": "python3"
  },
  "language_info": {
   "codemirror_mode": {
    "name": "ipython",
    "version": 3
   },
   "file_extension": ".py",
   "mimetype": "text/x-python",
   "name": "python",
   "nbconvert_exporter": "python",
   "pygments_lexer": "ipython3",
   "version": "3.11.8"
  }
 },
 "nbformat": 4,
 "nbformat_minor": 5
}
