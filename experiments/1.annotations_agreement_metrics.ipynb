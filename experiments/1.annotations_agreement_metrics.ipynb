{
 "cells": [
  {
   "cell_type": "code",
   "execution_count": 41,
   "id": "121e123d-b194-4eee-80e4-efe97897dc9b",
   "metadata": {},
   "outputs": [
    {
     "name": "stderr",
     "output_type": "stream",
     "text": [
      "[nltk_data] Downloading package stopwords to\n",
      "[nltk_data]     /Users/e154817e/nltk_data...\n",
      "[nltk_data]   Package stopwords is already up-to-date!\n"
     ]
    }
   ],
   "source": [
    "import re\n",
    "import pke\n",
    "import math\n",
    "import nltk\n",
    "import random\n",
    "import numpy as np\n",
    "import pandas as pd\n",
    "from nltk import stem\n",
    "from nltk.corpus import stopwords\n",
    " \n",
    "nltk.download('stopwords')\n",
    "stops = stopwords.words('english')\n",
    "\n",
    "stemmer = stem.PorterStemmer()"
   ]
  },
  {
   "cell_type": "code",
   "execution_count": 42,
   "id": "b68cb3c1-803d-42f0-9190-22b0734e5bcd",
   "metadata": {},
   "outputs": [],
   "source": [
    "reading_lists = pd.read_csv(\"../reading_lists.csv\")\n",
    "reading_lists = reading_lists.replace(np.nan, None)\n",
    "\n",
    "def split_queries_keyphrases(queries):\n",
    "    queries = queries.replace(np.nan, \"\")\n",
    "    return [query.strip().split(\", \") if query.strip().split(\", \") != [''] else [] for query in queries]\n",
    "\n",
    "annotator1_queries = split_queries_keyphrases(pd.read_csv(\"annotations/annotation_1.csv\")[\"query_keywords\"])\n",
    "annotator2_queries = split_queries_keyphrases(pd.read_csv(\"annotations/annotation_2.csv\")[\"query_keywords\"])\n",
    "annotator3_queries = split_queries_keyphrases(pd.read_csv(\"annotations/annotation_3.csv\")[\"query_keywords\"])\n",
    "annotator_scholar_queries = split_queries_keyphrases(pd.read_csv(\"annotations/annotation_scholar.csv\")[\"query_keywords\"])"
   ]
  },
  {
   "cell_type": "markdown",
   "id": "f621ed07-4a4c-4ef7-b664-bf4b865b6074",
   "metadata": {},
   "source": [
    "# Keyphrases query"
   ]
  },
  {
   "cell_type": "markdown",
   "id": "a45d016b-3f34-4712-8c3c-47130f2aa5fc",
   "metadata": {},
   "source": [
    "## KP number difference"
   ]
  },
  {
   "cell_type": "code",
   "execution_count": 43,
   "id": "9c33bd4e-e4f7-4aaa-baad-91690add005d",
   "metadata": {},
   "outputs": [],
   "source": [
    "def anotation_distance(annot_a, annot_b):\n",
    "    return sum([abs(len(kp_a) - len(kp_b)) for kp_a, kp_b in zip(annot_a, annot_b)]) / len(reading_lists)"
   ]
  },
  {
   "cell_type": "code",
   "execution_count": 44,
   "id": "d62748e1-5625-4495-91f5-748a37428893",
   "metadata": {},
   "outputs": [
    {
     "data": {
      "text/html": [
       "<div>\n",
       "<style scoped>\n",
       "    .dataframe tbody tr th:only-of-type {\n",
       "        vertical-align: middle;\n",
       "    }\n",
       "\n",
       "    .dataframe tbody tr th {\n",
       "        vertical-align: top;\n",
       "    }\n",
       "\n",
       "    .dataframe thead th {\n",
       "        text-align: right;\n",
       "    }\n",
       "</style>\n",
       "<table border=\"1\" class=\"dataframe\">\n",
       "  <thead>\n",
       "    <tr style=\"text-align: right;\">\n",
       "      <th></th>\n",
       "      <th>Average difference</th>\n",
       "    </tr>\n",
       "  </thead>\n",
       "  <tbody>\n",
       "    <tr>\n",
       "      <th>Annotator 1 vs 2</th>\n",
       "      <td>0.976471</td>\n",
       "    </tr>\n",
       "    <tr>\n",
       "      <th>Annotator 1 vs 3</th>\n",
       "      <td>1.505882</td>\n",
       "    </tr>\n",
       "    <tr>\n",
       "      <th>Annotator 2 vs 3</th>\n",
       "      <td>1.705882</td>\n",
       "    </tr>\n",
       "  </tbody>\n",
       "</table>\n",
       "</div>"
      ],
      "text/plain": [
       "                  Average difference\n",
       "Annotator 1 vs 2            0.976471\n",
       "Annotator 1 vs 3            1.505882\n",
       "Annotator 2 vs 3            1.705882"
      ]
     },
     "execution_count": 44,
     "metadata": {},
     "output_type": "execute_result"
    }
   ],
   "source": [
    "pd.DataFrame({\n",
    "    \"Annotator 1 vs 2\":anotation_distance(annotator1_queries, annotator2_queries),\n",
    "    \"Annotator 1 vs 3\":anotation_distance(annotator1_queries, annotator3_queries), \n",
    "    \"Annotator 2 vs 3\":anotation_distance(annotator2_queries, annotator3_queries), \n",
    "}, index=[\"Average difference\"]).transpose()"
   ]
  },
  {
   "cell_type": "code",
   "execution_count": 45,
   "id": "18297278-f396-4ef9-bb5a-c6be12f0b6d1",
   "metadata": {},
   "outputs": [
    {
     "data": {
      "text/html": [
       "<div>\n",
       "<style scoped>\n",
       "    .dataframe tbody tr th:only-of-type {\n",
       "        vertical-align: middle;\n",
       "    }\n",
       "\n",
       "    .dataframe tbody tr th {\n",
       "        vertical-align: top;\n",
       "    }\n",
       "\n",
       "    .dataframe thead th {\n",
       "        text-align: right;\n",
       "    }\n",
       "</style>\n",
       "<table border=\"1\" class=\"dataframe\">\n",
       "  <thead>\n",
       "    <tr style=\"text-align: right;\">\n",
       "      <th></th>\n",
       "      <th>Average difference</th>\n",
       "    </tr>\n",
       "  </thead>\n",
       "  <tbody>\n",
       "    <tr>\n",
       "      <th>Annotator 1 vs Semantic Scholar</th>\n",
       "      <td>3.423529</td>\n",
       "    </tr>\n",
       "    <tr>\n",
       "      <th>Annotator 2 vs Semantic Scholar</th>\n",
       "      <td>3.741176</td>\n",
       "    </tr>\n",
       "    <tr>\n",
       "      <th>Annotator 3 vs Semantic Scholar</th>\n",
       "      <td>2.929412</td>\n",
       "    </tr>\n",
       "  </tbody>\n",
       "</table>\n",
       "</div>"
      ],
      "text/plain": [
       "                                 Average difference\n",
       "Annotator 1 vs Semantic Scholar            3.423529\n",
       "Annotator 2 vs Semantic Scholar            3.741176\n",
       "Annotator 3 vs Semantic Scholar            2.929412"
      ]
     },
     "execution_count": 45,
     "metadata": {},
     "output_type": "execute_result"
    }
   ],
   "source": [
    "pd.DataFrame({\n",
    "    \"Annotator 1 vs Semantic Scholar\":anotation_distance(annotator1_queries, annotator_scholar_queries),\n",
    "    \"Annotator 2 vs Semantic Scholar\":anotation_distance(annotator2_queries, annotator_scholar_queries), \n",
    "    \"Annotator 3 vs Semantic Scholar\":anotation_distance(annotator3_queries, annotator_scholar_queries), \n",
    "}, index=[\"Average difference\"]).transpose()"
   ]
  },
  {
   "cell_type": "code",
   "execution_count": 46,
   "id": "c5d9b5b4-3965-4f51-9672-b89f52f0b4ae",
   "metadata": {},
   "outputs": [
    {
     "data": {
      "text/html": [
       "<div>\n",
       "<style scoped>\n",
       "    .dataframe tbody tr th:only-of-type {\n",
       "        vertical-align: middle;\n",
       "    }\n",
       "\n",
       "    .dataframe tbody tr th {\n",
       "        vertical-align: top;\n",
       "    }\n",
       "\n",
       "    .dataframe thead th {\n",
       "        text-align: right;\n",
       "    }\n",
       "</style>\n",
       "<table border=\"1\" class=\"dataframe\">\n",
       "  <thead>\n",
       "    <tr style=\"text-align: right;\">\n",
       "      <th></th>\n",
       "      <th>Average number of KP</th>\n",
       "    </tr>\n",
       "  </thead>\n",
       "  <tbody>\n",
       "    <tr>\n",
       "      <th>Annotator 1</th>\n",
       "      <td>2.705882</td>\n",
       "    </tr>\n",
       "    <tr>\n",
       "      <th>Annotator 2</th>\n",
       "      <td>2.341176</td>\n",
       "    </tr>\n",
       "    <tr>\n",
       "      <th>Annotator 3</th>\n",
       "      <td>3.835294</td>\n",
       "    </tr>\n",
       "    <tr>\n",
       "      <th>Semantic Scholar</th>\n",
       "      <td>4.976471</td>\n",
       "    </tr>\n",
       "  </tbody>\n",
       "</table>\n",
       "</div>"
      ],
      "text/plain": [
       "                  Average number of KP\n",
       "Annotator 1                   2.705882\n",
       "Annotator 2                   2.341176\n",
       "Annotator 3                   3.835294\n",
       "Semantic Scholar              4.976471"
      ]
     },
     "execution_count": 46,
     "metadata": {},
     "output_type": "execute_result"
    }
   ],
   "source": [
    "pd.DataFrame({\n",
    "    \"Annotator 1\": np.mean([len(kws) for kws in annotator1_queries]),\n",
    "    \"Annotator 2\": np.mean([len(kws) for kws in annotator2_queries]), \n",
    "    \"Annotator 3\": np.mean([len(kws) for kws in annotator3_queries]), \n",
    "    \"Semantic Scholar\": np.mean([len(kws) for kws in annotator_scholar_queries])\n",
    "}, index=[\"Average number of KP\"]).transpose()"
   ]
  },
  {
   "cell_type": "markdown",
   "id": "a9651e56-bbec-419f-826c-348b261dbded",
   "metadata": {},
   "source": [
    "## Statistical extraction baselines"
   ]
  },
  {
   "cell_type": "code",
   "execution_count": 47,
   "id": "2d15196a-801b-4c61-84a3-fe13893f2093",
   "metadata": {},
   "outputs": [],
   "source": [
    "nb_kps_to_generate = [math.floor(np.mean([len(annot1),len(annot2), len(annot3)])) for annot1, annot2, annot3 in zip(annotator1_queries, annotator2_queries, annotator3_queries)]"
   ]
  },
  {
   "cell_type": "code",
   "execution_count": 48,
   "id": "89ce98ce-4c87-422b-8b64-f6d117ba6e3e",
   "metadata": {
    "scrolled": true
   },
   "outputs": [],
   "source": [
    "firstphrase_keyphrases = []\n",
    "\n",
    "for i, (title, abstract) in enumerate(zip(reading_lists[\"title\"], reading_lists[\"abstract\"])):\n",
    "    content =  \" \".join([title, (abstract or \"\")])\n",
    "    extractor = pke.unsupervised.FirstPhrases()\n",
    "    extractor.load_document(input=content, language='en')\n",
    "    extractor.candidate_selection()\n",
    "    extractor.candidate_weighting()\n",
    "    keyphrases = extractor.get_n_best(n=nb_kps_to_generate[i])\n",
    "    firstphrase_keyphrases.append([kp[0] for kp in keyphrases])"
   ]
  },
  {
   "cell_type": "code",
   "execution_count": 49,
   "id": "97cea791-2cac-48eb-9ec3-774569c55967",
   "metadata": {
    "scrolled": true
   },
   "outputs": [],
   "source": [
    "tfidf_keyphrases = []\n",
    "\n",
    "for i, (title, abstract) in enumerate(zip(reading_lists[\"title\"], reading_lists[\"abstract\"])):\n",
    "    content =  \" \".join([title, (abstract or \"\")])\n",
    "    extractor = pke.unsupervised.TfIdf()\n",
    "    extractor.load_document(input=content, language='en')\n",
    "    extractor.candidate_selection()\n",
    "    extractor.candidate_weighting(df={\"--NB_DOC--\":1})\n",
    "    keyphrases = extractor.get_n_best(n=nb_kps_to_generate[i])\n",
    "    tfidf_keyphrases.append([kp[0] for kp in keyphrases])"
   ]
  },
  {
   "cell_type": "code",
   "execution_count": 50,
   "id": "379a10a9-538d-4354-9890-f0213801f980",
   "metadata": {},
   "outputs": [],
   "source": [
    "random_keyphrases = []\n",
    "\n",
    "for i, (title, abstract) in enumerate(zip(reading_lists[\"title\"], reading_lists[\"abstract\"])):\n",
    "    content =  \" \".join([title, (abstract or \"\")])\n",
    "    extractor = pke.unsupervised.TfIdf()\n",
    "    extractor.load_document(input=content, language='en')\n",
    "    extractor.candidate_selection()\n",
    "    \n",
    "    random_kps = random.sample(list(extractor.candidates.items()), nb_kps_to_generate[i])\n",
    "    random_keyphrases.append([kp[0] for kp in random_kps])"
   ]
  },
  {
   "cell_type": "markdown",
   "id": "b93a0a05-9caa-41c7-9337-a110e0f841e6",
   "metadata": {},
   "source": [
    "## Exact match"
   ]
  },
  {
   "cell_type": "code",
   "execution_count": 51,
   "id": "9cc0c686-747d-41f7-ac10-151a4cd01f17",
   "metadata": {
    "scrolled": true
   },
   "outputs": [],
   "source": [
    "def clean_string(string):\n",
    "    return re.sub(r'\\W+','', string).lower() \n",
    "    \n",
    "def stem_string(string):\n",
    "    return stemmer.stem(string, to_lowercase=True)\n",
    "    \n",
    "def list_word_process(lst):\n",
    "    return [stem_string(word) for kp in lst for word in kp.split() if stem_string(word) not in stops]\n",
    "\n",
    "def word_exact_match(lst1, lst2):\n",
    "    return exact_match(list_word_process(lst1), list_word_process(lst2))\n",
    "    \n",
    "def exact_match(lst1, lst2):\n",
    "    if lst1 == lst2:\n",
    "        return 1\n",
    "    lst1 = list(map(stem_string, lst1))\n",
    "    lst2 = list(map(stem_string, lst2))\n",
    "    inter = list(set(lst1) & set(lst2))\n",
    "    union = list(set(lst1) | set(lst2))\n",
    "    return len(inter) / len(union) if len(union) > 0 else 0\n",
    "\n",
    "def score(annotator1_keyphrases, annotator2_keyphrases, func=exact_match):\n",
    "    return sum([func(anot1, anot2) for anot1, anot2 in zip(annotator1_keyphrases, annotator2_keyphrases)])/ max(len(annotator1_keyphrases), len(annotator2_keyphrases))\n",
    "\n",
    "def matrix_annotations(annotations, names, func = exact_match):\n",
    "    matrix = []\n",
    "    for annot_a in annotations:\n",
    "        row = []\n",
    "        for annot_b in annotations:\n",
    "            row.append(score(annot_a, annot_b, func=func))\n",
    "        matrix.append(row)\n",
    "    return pd.DataFrame(matrix, index=names, columns=names)"
   ]
  },
  {
   "cell_type": "code",
   "execution_count": 62,
   "id": "4fb2f817-d5f5-4233-9d72-733aa6427099",
   "metadata": {
    "scrolled": true
   },
   "outputs": [],
   "source": [
    "annotations = {\n",
    "    \"PhD Student\":annotator1_queries,\n",
    "    \"Expert-Level\":annotator2_queries, \n",
    "    \"PhD-Level\":annotator3_queries, \n",
    "    \"Semantic Scholar KP\":annotator_scholar_queries, \n",
    "    \"FirstPhrase KP\":firstphrase_keyphrases, \n",
    "    \"TFIDF KP\":tfidf_keyphrases, \n",
    "    \"Random KP\":random_keyphrases\n",
    "}"
   ]
  },
  {
   "cell_type": "code",
   "execution_count": 63,
   "id": "d3fb9bf3-0ac9-491b-889d-c1ccf70c3a45",
   "metadata": {
    "scrolled": true
   },
   "outputs": [
    {
     "data": {
      "text/html": [
       "<div>\n",
       "<style scoped>\n",
       "    .dataframe tbody tr th:only-of-type {\n",
       "        vertical-align: middle;\n",
       "    }\n",
       "\n",
       "    .dataframe tbody tr th {\n",
       "        vertical-align: top;\n",
       "    }\n",
       "\n",
       "    .dataframe thead th {\n",
       "        text-align: right;\n",
       "    }\n",
       "</style>\n",
       "<table border=\"1\" class=\"dataframe\">\n",
       "  <thead>\n",
       "    <tr style=\"text-align: right;\">\n",
       "      <th></th>\n",
       "      <th>PhD Student</th>\n",
       "      <th>Expert-Level</th>\n",
       "      <th>PhD-Level</th>\n",
       "    </tr>\n",
       "  </thead>\n",
       "  <tbody>\n",
       "    <tr>\n",
       "      <th>PhD Student</th>\n",
       "      <td>1.000000</td>\n",
       "      <td>0.316709</td>\n",
       "      <td>0.073842</td>\n",
       "    </tr>\n",
       "    <tr>\n",
       "      <th>Expert-Level</th>\n",
       "      <td>0.316709</td>\n",
       "      <td>1.000000</td>\n",
       "      <td>0.111134</td>\n",
       "    </tr>\n",
       "    <tr>\n",
       "      <th>PhD-Level</th>\n",
       "      <td>0.073842</td>\n",
       "      <td>0.111134</td>\n",
       "      <td>1.000000</td>\n",
       "    </tr>\n",
       "    <tr>\n",
       "      <th>Semantic Scholar KP</th>\n",
       "      <td>0.083906</td>\n",
       "      <td>0.078013</td>\n",
       "      <td>0.061596</td>\n",
       "    </tr>\n",
       "    <tr>\n",
       "      <th>FirstPhrase KP</th>\n",
       "      <td>0.109524</td>\n",
       "      <td>0.123016</td>\n",
       "      <td>0.040770</td>\n",
       "    </tr>\n",
       "    <tr>\n",
       "      <th>TFIDF KP</th>\n",
       "      <td>0.053492</td>\n",
       "      <td>0.123142</td>\n",
       "      <td>0.054916</td>\n",
       "    </tr>\n",
       "    <tr>\n",
       "      <th>Random KP</th>\n",
       "      <td>0.000000</td>\n",
       "      <td>0.000000</td>\n",
       "      <td>0.001471</td>\n",
       "    </tr>\n",
       "  </tbody>\n",
       "</table>\n",
       "</div>"
      ],
      "text/plain": [
       "                     PhD Student  Expert-Level  PhD-Level\n",
       "PhD Student             1.000000      0.316709   0.073842\n",
       "Expert-Level            0.316709      1.000000   0.111134\n",
       "PhD-Level               0.073842      0.111134   1.000000\n",
       "Semantic Scholar KP     0.083906      0.078013   0.061596\n",
       "FirstPhrase KP          0.109524      0.123016   0.040770\n",
       "TFIDF KP                0.053492      0.123142   0.054916\n",
       "Random KP               0.000000      0.000000   0.001471"
      ]
     },
     "execution_count": 63,
     "metadata": {},
     "output_type": "execute_result"
    }
   ],
   "source": [
    "df = matrix_annotations(list(annotations.values()), list(annotations.keys()), func=exact_match).drop([\"Semantic Scholar KP\", \"FirstPhrase KP\", \"TFIDF KP\", \"Random KP\"], axis=1)\n",
    "df\n",
    "#print(df.to_latex(float_format=\"%.2f\"))"
   ]
  },
  {
   "cell_type": "code",
   "execution_count": 71,
   "id": "abfc97d8-2c30-4767-86fa-fb5fafeb586d",
   "metadata": {},
   "outputs": [
    {
     "data": {
      "text/html": [
       "<div>\n",
       "<style scoped>\n",
       "    .dataframe tbody tr th:only-of-type {\n",
       "        vertical-align: middle;\n",
       "    }\n",
       "\n",
       "    .dataframe tbody tr th {\n",
       "        vertical-align: top;\n",
       "    }\n",
       "\n",
       "    .dataframe thead th {\n",
       "        text-align: right;\n",
       "    }\n",
       "</style>\n",
       "<table border=\"1\" class=\"dataframe\">\n",
       "  <thead>\n",
       "    <tr style=\"text-align: right;\">\n",
       "      <th></th>\n",
       "      <th>PhD Student</th>\n",
       "      <th>Expert-Level</th>\n",
       "      <th>PhD-Level</th>\n",
       "    </tr>\n",
       "  </thead>\n",
       "  <tbody>\n",
       "    <tr>\n",
       "      <th>PhD Student</th>\n",
       "      <td>1.000000</td>\n",
       "      <td>0.524606</td>\n",
       "      <td>0.287603</td>\n",
       "    </tr>\n",
       "    <tr>\n",
       "      <th>Expert-Level</th>\n",
       "      <td>0.524606</td>\n",
       "      <td>1.000000</td>\n",
       "      <td>0.278393</td>\n",
       "    </tr>\n",
       "    <tr>\n",
       "      <th>PhD-Level</th>\n",
       "      <td>0.287603</td>\n",
       "      <td>0.278393</td>\n",
       "      <td>1.000000</td>\n",
       "    </tr>\n",
       "    <tr>\n",
       "      <th>Semantic Scholar KP</th>\n",
       "      <td>0.210690</td>\n",
       "      <td>0.172885</td>\n",
       "      <td>0.206158</td>\n",
       "    </tr>\n",
       "    <tr>\n",
       "      <th>FirstPhrase KP</th>\n",
       "      <td>0.349599</td>\n",
       "      <td>0.359895</td>\n",
       "      <td>0.220304</td>\n",
       "    </tr>\n",
       "    <tr>\n",
       "      <th>TFIDF KP</th>\n",
       "      <td>0.294271</td>\n",
       "      <td>0.409892</td>\n",
       "      <td>0.186841</td>\n",
       "    </tr>\n",
       "    <tr>\n",
       "      <th>Random KP</th>\n",
       "      <td>0.078902</td>\n",
       "      <td>0.075010</td>\n",
       "      <td>0.065405</td>\n",
       "    </tr>\n",
       "  </tbody>\n",
       "</table>\n",
       "</div>"
      ],
      "text/plain": [
       "                     PhD Student  Expert-Level  PhD-Level\n",
       "PhD Student             1.000000      0.524606   0.287603\n",
       "Expert-Level            0.524606      1.000000   0.278393\n",
       "PhD-Level               0.287603      0.278393   1.000000\n",
       "Semantic Scholar KP     0.210690      0.172885   0.206158\n",
       "FirstPhrase KP          0.349599      0.359895   0.220304\n",
       "TFIDF KP                0.294271      0.409892   0.186841\n",
       "Random KP               0.078902      0.075010   0.065405"
      ]
     },
     "execution_count": 71,
     "metadata": {},
     "output_type": "execute_result"
    }
   ],
   "source": [
    "df = matrix_annotations(list(annotations.values()), list(annotations.keys()), func=word_exact_match).drop([\"Semantic Scholar KP\", \"FirstPhrase KP\", \"TFIDF KP\", \"Random KP\"], axis=1)\n",
    "df\n",
    "#print(df.to_latex(float_format=\"%.2f\"))"
   ]
  },
  {
   "cell_type": "markdown",
   "id": "a70179a1-95ee-4547-a04d-2b844a4c0cf2",
   "metadata": {},
   "source": [
    "# Sentence query"
   ]
  },
  {
   "cell_type": "code",
   "execution_count": 65,
   "id": "1aba199d-e916-4bd8-87ba-f5fc8b113569",
   "metadata": {},
   "outputs": [],
   "source": [
    "def clean_string(string):\n",
    "    return re.sub(r'\\W+','', string).lower() \n",
    "    \n",
    "def stem_string(string):\n",
    "    return stemmer.stem(string, to_lowercase=True)"
   ]
  },
  {
   "cell_type": "code",
   "execution_count": 66,
   "id": "15698c3f-5f74-440e-a9ac-6fac844d05d0",
   "metadata": {},
   "outputs": [],
   "source": [
    "annotator1_sentences = [query.strip() for query in pd.read_csv(\"annotations/annotation_1.csv\")[\"query_sentence\"].replace(np.nan, \"\")]\n",
    "annotator2_sentences = [query.strip() for query in pd.read_csv(\"annotations/annotation_2.csv\")[\"query_sentence\"].replace(np.nan, \"\")]\n",
    "annotator3_sentences = [query.strip() for query in pd.read_csv(\"annotations/annotation_3.csv\")[\"query_sentence\"].replace(np.nan, \"\")]"
   ]
  },
  {
   "cell_type": "code",
   "execution_count": 67,
   "id": "84aa43b6-295f-420b-a419-d37ad6005187",
   "metadata": {
    "scrolled": true
   },
   "outputs": [],
   "source": [
    "annotator1_sentences_kw = [[clean_string(stem_string(w)) for w in s.split() if w not in stops] for s in annotator1_sentences]\n",
    "annotator2_sentences_kw = [[clean_string(stem_string(w)) for w in s.split() if w not in stops] for s in annotator2_sentences]\n",
    "annotator3_sentences_kw = [[clean_string(stem_string(w)) for w in s.split() if w not in stops] for s in annotator3_sentences]"
   ]
  },
  {
   "cell_type": "code",
   "execution_count": 72,
   "id": "0659b731-80e0-43fa-926f-1c8d8be88d5e",
   "metadata": {
    "scrolled": true
   },
   "outputs": [],
   "source": [
    "annotations_sentences = {\n",
    "    \"PhD Student\":annotator1_sentences_kw,\n",
    "    \"Expert-Level\":annotator2_sentences_kw, \n",
    "    \"PhD-Level\":annotator3_sentences_kw, \n",
    "}"
   ]
  },
  {
   "cell_type": "code",
   "execution_count": 76,
   "id": "02d50ab6-e2c6-4667-8b36-5551d0ca07c3",
   "metadata": {},
   "outputs": [
    {
     "data": {
      "text/html": [
       "<div>\n",
       "<style scoped>\n",
       "    .dataframe tbody tr th:only-of-type {\n",
       "        vertical-align: middle;\n",
       "    }\n",
       "\n",
       "    .dataframe tbody tr th {\n",
       "        vertical-align: top;\n",
       "    }\n",
       "\n",
       "    .dataframe thead th {\n",
       "        text-align: right;\n",
       "    }\n",
       "</style>\n",
       "<table border=\"1\" class=\"dataframe\">\n",
       "  <thead>\n",
       "    <tr style=\"text-align: right;\">\n",
       "      <th></th>\n",
       "      <th>PhD Student</th>\n",
       "      <th>Expert-Level</th>\n",
       "      <th>PhD-Level</th>\n",
       "    </tr>\n",
       "  </thead>\n",
       "  <tbody>\n",
       "    <tr>\n",
       "      <th>PhD Student</th>\n",
       "      <td>1.000000</td>\n",
       "      <td>0.597351</td>\n",
       "      <td>0.402873</td>\n",
       "    </tr>\n",
       "    <tr>\n",
       "      <th>Expert-Level</th>\n",
       "      <td>0.597351</td>\n",
       "      <td>1.000000</td>\n",
       "      <td>0.398665</td>\n",
       "    </tr>\n",
       "    <tr>\n",
       "      <th>PhD-Level</th>\n",
       "      <td>0.402873</td>\n",
       "      <td>0.398665</td>\n",
       "      <td>1.000000</td>\n",
       "    </tr>\n",
       "  </tbody>\n",
       "</table>\n",
       "</div>"
      ],
      "text/plain": [
       "              PhD Student  Expert-Level  PhD-Level\n",
       "PhD Student      1.000000      0.597351   0.402873\n",
       "Expert-Level     0.597351      1.000000   0.398665\n",
       "PhD-Level        0.402873      0.398665   1.000000"
      ]
     },
     "execution_count": 76,
     "metadata": {},
     "output_type": "execute_result"
    }
   ],
   "source": [
    "df = matrix_annotations(list(annotations_sentences.values()), list(annotations_sentences.keys()), func=exact_match)\n",
    "df\n",
    "#print(df.to_latex(float_format=\"%.2f\"))"
   ]
  }
 ],
 "metadata": {
  "kernelspec": {
   "display_name": "Python 3 (ipykernel)",
   "language": "python",
   "name": "python3"
  },
  "language_info": {
   "codemirror_mode": {
    "name": "ipython",
    "version": 3
   },
   "file_extension": ".py",
   "mimetype": "text/x-python",
   "name": "python",
   "nbconvert_exporter": "python",
   "pygments_lexer": "ipython3",
   "version": "3.11.8"
  }
 },
 "nbformat": 4,
 "nbformat_minor": 5
}
