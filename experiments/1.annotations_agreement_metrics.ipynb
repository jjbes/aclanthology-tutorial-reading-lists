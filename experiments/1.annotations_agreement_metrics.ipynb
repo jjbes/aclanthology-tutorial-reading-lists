{
 "cells": [
  {
   "cell_type": "code",
   "execution_count": 276,
   "id": "121e123d-b194-4eee-80e4-efe97897dc9b",
   "metadata": {},
   "outputs": [
    {
     "name": "stderr",
     "output_type": "stream",
     "text": [
      "[nltk_data] Downloading package stopwords to\n",
      "[nltk_data]     /Users/e154817e/nltk_data...\n",
      "[nltk_data]   Package stopwords is already up-to-date!\n"
     ]
    }
   ],
   "source": [
    "import re\n",
    "import pke\n",
    "import math\n",
    "import nltk\n",
    "import random\n",
    "import numpy as np\n",
    "import pandas as pd\n",
    "from nltk import stem\n",
    "from nltk.corpus import stopwords\n",
    "from collections import defaultdict\n",
    "\n",
    "nltk.download('stopwords')\n",
    "stops = stopwords.words('english')\n",
    "\n",
    "stemmer = stem.PorterStemmer()"
   ]
  },
  {
   "cell_type": "code",
   "execution_count": 277,
   "id": "f40eb8bf-b2e6-4d0f-bca0-fffc26a5bc13",
   "metadata": {},
   "outputs": [],
   "source": [
    "def clean_string(string):\n",
    "    return re.sub(r'\\W+','', string).lower() \n",
    "    \n",
    "def stem_string(string):\n",
    "    return stemmer.stem(string, to_lowercase=True)\n",
    "    \n",
    "def list_word_process(lst):\n",
    "    return [stem_string(word) for kp in lst for word in kp.split() if stem_string(word) not in stops]\n",
    "\n",
    "def anotation_distance(annot_a, annot_b):\n",
    "    if annot_a == annot_b:\n",
    "        return 1\n",
    "    return sum([abs(len(kp_a) - len(kp_b)) for kp_a, kp_b in zip(annot_a, annot_b)]) / len(reading_lists)\n",
    "\n",
    "def word_exact_match(lst1, lst2):\n",
    "    return exact_match(list_word_process(lst1), list_word_process(lst2))\n",
    "    \n",
    "def exact_match(lst1, lst2):\n",
    "    if lst1 == lst2:\n",
    "        return 1\n",
    "    lst1 = list(map(stem_string, lst1))\n",
    "    lst2 = list(map(stem_string, lst2))\n",
    "    inter = list(set(lst1) & set(lst2))\n",
    "    union = list(set(lst1) | set(lst2))\n",
    "    return len(inter) / len(union) if len(union) > 0 else 0\n",
    "\n",
    "def score(annotator1_keyphrases, annotator2_keyphrases, func=exact_match):\n",
    "    return sum([func(anot1, anot2) for anot1, anot2 in zip(annotator1_keyphrases, annotator2_keyphrases)])/ max(len(annotator1_keyphrases), len(annotator2_keyphrases))\n",
    "\n",
    "def matrix_annotations(annotations_dict, func=word_exact_match, cols=[]):\n",
    "    data = defaultdict(lambda : defaultdict(list))\n",
    "    for k, annotations in annotations_dict.items():\n",
    "        for col in cols:\n",
    "            data[k][col]= score(annotations, annotations_dict[col], func=func)\n",
    "    return pd.DataFrame(data).transpose()\n",
    "\n",
    "def split_queries_keyphrases(queries):\n",
    "    queries = queries.replace(np.nan, \"\")\n",
    "    return [[v.strip() for v in query.strip().split(\",\")] if query.strip().split(\",\") != [''] else [] for query in queries]"
   ]
  },
  {
   "cell_type": "code",
   "execution_count": 278,
   "id": "b68cb3c1-803d-42f0-9190-22b0734e5bcd",
   "metadata": {},
   "outputs": [],
   "source": [
    "reading_lists = pd.read_csv(\"../reading_lists.csv\")\n",
    "reading_lists = reading_lists.replace(np.nan, None)\n",
    "\n",
    "queries_kps = {}\n",
    "for annotator_i in [1,2,3, \"bart\"]:\n",
    "    queries_kps[annotator_i] = [split_queries_keyphrases(pd.read_csv(f\"annotations/annotation_{annotator_i}.csv\")[\"query_keywords\"])]"
   ]
  },
  {
   "cell_type": "markdown",
   "id": "f621ed07-4a4c-4ef7-b664-bf4b865b6074",
   "metadata": {},
   "source": [
    "# Keyphrases queries"
   ]
  },
  {
   "cell_type": "markdown",
   "id": "a45d016b-3f34-4712-8c3c-47130f2aa5fc",
   "metadata": {},
   "source": [
    "## KP distance difference"
   ]
  },
  {
   "cell_type": "code",
   "execution_count": 279,
   "id": "17e5d9d1-522a-45a5-9e6e-7b042fde8235",
   "metadata": {},
   "outputs": [
    {
     "data": {
      "text/html": [
       "<div>\n",
       "<style scoped>\n",
       "    .dataframe tbody tr th:only-of-type {\n",
       "        vertical-align: middle;\n",
       "    }\n",
       "\n",
       "    .dataframe tbody tr th {\n",
       "        vertical-align: top;\n",
       "    }\n",
       "\n",
       "    .dataframe thead th {\n",
       "        text-align: right;\n",
       "    }\n",
       "</style>\n",
       "<table border=\"1\" class=\"dataframe\">\n",
       "  <thead>\n",
       "    <tr style=\"text-align: right;\">\n",
       "      <th></th>\n",
       "      <th>PhD Student</th>\n",
       "      <th>Expert-Level</th>\n",
       "      <th>PhD-Level</th>\n",
       "    </tr>\n",
       "  </thead>\n",
       "  <tbody>\n",
       "    <tr>\n",
       "      <th>PhD Student</th>\n",
       "      <td>1.000000</td>\n",
       "      <td>0.976471</td>\n",
       "      <td>1.505882</td>\n",
       "    </tr>\n",
       "    <tr>\n",
       "      <th>Expert-Level</th>\n",
       "      <td>0.976471</td>\n",
       "      <td>1.000000</td>\n",
       "      <td>1.705882</td>\n",
       "    </tr>\n",
       "    <tr>\n",
       "      <th>PhD-Level</th>\n",
       "      <td>1.505882</td>\n",
       "      <td>1.705882</td>\n",
       "      <td>1.000000</td>\n",
       "    </tr>\n",
       "    <tr>\n",
       "      <th>Bart-Large-KP20K</th>\n",
       "      <td>2.023529</td>\n",
       "      <td>2.247059</td>\n",
       "      <td>1.458824</td>\n",
       "    </tr>\n",
       "  </tbody>\n",
       "</table>\n",
       "</div>"
      ],
      "text/plain": [
       "                  PhD Student  Expert-Level  PhD-Level\n",
       "PhD Student          1.000000      0.976471   1.505882\n",
       "Expert-Level         0.976471      1.000000   1.705882\n",
       "PhD-Level            1.505882      1.705882   1.000000\n",
       "Bart-Large-KP20K     2.023529      2.247059   1.458824"
      ]
     },
     "execution_count": 279,
     "metadata": {},
     "output_type": "execute_result"
    }
   ],
   "source": [
    "columns = [\"PhD Student\", \"Expert-Level\", \"PhD-Level\"]\n",
    "annotations_ks = {\n",
    "    \"PhD Student\":queries_kps[1],\n",
    "    \"Expert-Level\":queries_kps[2], \n",
    "    \"PhD-Level\":queries_kps[3], \n",
    "    \"Bart-Large-KP20K\":queries_kps[\"bart\"], \n",
    "}\n",
    "\n",
    "df = matrix_annotations(annotations_ks, func=anotation_distance, cols=columns); df\n",
    "#print(df.to_latex(float_format=\"%.2f\"))"
   ]
  },
  {
   "cell_type": "code",
   "execution_count": 280,
   "id": "c5d9b5b4-3965-4f51-9672-b89f52f0b4ae",
   "metadata": {},
   "outputs": [
    {
     "data": {
      "text/html": [
       "<div>\n",
       "<style scoped>\n",
       "    .dataframe tbody tr th:only-of-type {\n",
       "        vertical-align: middle;\n",
       "    }\n",
       "\n",
       "    .dataframe tbody tr th {\n",
       "        vertical-align: top;\n",
       "    }\n",
       "\n",
       "    .dataframe thead th {\n",
       "        text-align: right;\n",
       "    }\n",
       "</style>\n",
       "<table border=\"1\" class=\"dataframe\">\n",
       "  <thead>\n",
       "    <tr style=\"text-align: right;\">\n",
       "      <th></th>\n",
       "      <th>Average number of KP</th>\n",
       "    </tr>\n",
       "  </thead>\n",
       "  <tbody>\n",
       "    <tr>\n",
       "      <th>Annotator 1</th>\n",
       "      <td>2.705882</td>\n",
       "    </tr>\n",
       "    <tr>\n",
       "      <th>Annotator 2</th>\n",
       "      <td>2.341176</td>\n",
       "    </tr>\n",
       "    <tr>\n",
       "      <th>Annotator 3</th>\n",
       "      <td>3.835294</td>\n",
       "    </tr>\n",
       "    <tr>\n",
       "      <th>Bart-Large-KP20K</th>\n",
       "      <td>4.447059</td>\n",
       "    </tr>\n",
       "  </tbody>\n",
       "</table>\n",
       "</div>"
      ],
      "text/plain": [
       "                  Average number of KP\n",
       "Annotator 1                   2.705882\n",
       "Annotator 2                   2.341176\n",
       "Annotator 3                   3.835294\n",
       "Bart-Large-KP20K              4.447059"
      ]
     },
     "execution_count": 280,
     "metadata": {},
     "output_type": "execute_result"
    }
   ],
   "source": [
    "pd.DataFrame({\n",
    "    \"Annotator 1\": np.mean([len(kws) for kws in queries_kps[1][0]]),\n",
    "    \"Annotator 2\": np.mean([len(kws) for kws in queries_kps[2][0]]), \n",
    "    \"Annotator 3\": np.mean([len(kws) for kws in queries_kps[3][0]]), \n",
    "    \"Bart-Large-KP20K\": np.mean([len(kws) for kws in queries_kps[\"bart\"][0]])\n",
    "}, index=[\"Average number of KP\"]).transpose()"
   ]
  },
  {
   "cell_type": "markdown",
   "id": "a9651e56-bbec-419f-826c-348b261dbded",
   "metadata": {},
   "source": [
    "## Agreement + comparison to baselines"
   ]
  },
  {
   "cell_type": "code",
   "execution_count": 315,
   "id": "eb6e9105-2abf-47a4-a774-31dc190772db",
   "metadata": {},
   "outputs": [],
   "source": [
    "firstphrase_title_keyphrases = []\n",
    "\n",
    "for title in reading_lists[\"title\"]:\n",
    "    extractor = pke.unsupervised.FirstPhrases()\n",
    "    extractor.load_document(input=title, language='en')\n",
    "    extractor.candidate_selection()\n",
    "    extractor.candidate_weighting()\n",
    "    keyphrases = extractor.get_n_best(n=3)\n",
    "    firstphrase_title_keyphrases.append([kp[0] for kp in keyphrases])"
   ]
  },
  {
   "cell_type": "code",
   "execution_count": 316,
   "id": "5324ad14-2d01-4758-89d7-fbe471b080b3",
   "metadata": {},
   "outputs": [],
   "source": [
    "topicrank_keyphrases = []\n",
    "\n",
    "for title,abstract in zip(reading_lists[\"title\"],reading_lists[\"abstract\"]):\n",
    "    extractor = pke.unsupervised.TopicRank()\n",
    "    extractor.load_document(input=title+\"\\n \"+(abstract or \"\"), language='en')\n",
    "    extractor.candidate_selection()\n",
    "    extractor.candidate_weighting()\n",
    "    keyphrases = extractor.get_n_best(n=3)\n",
    "    topicrank_keyphrases.append([kp[0] for kp in keyphrases])"
   ]
  },
  {
   "cell_type": "code",
   "execution_count": 317,
   "id": "77cd1af0-d02f-4026-a393-dd5489523110",
   "metadata": {},
   "outputs": [
    {
     "data": {
      "text/plain": [
       "2.3529411764705883"
      ]
     },
     "execution_count": 317,
     "metadata": {},
     "output_type": "execute_result"
    }
   ],
   "source": [
    "np.mean([len(kws) for kws in firstphrase_title_keyphrases])"
   ]
  },
  {
   "cell_type": "code",
   "execution_count": 318,
   "id": "529e45a7-37c5-408f-a98b-ca4d8a00a43d",
   "metadata": {},
   "outputs": [
    {
     "data": {
      "text/plain": [
       "3.0"
      ]
     },
     "execution_count": 318,
     "metadata": {},
     "output_type": "execute_result"
    }
   ],
   "source": [
    "np.mean([len(kws) for kws in topicrank_keyphrases])"
   ]
  },
  {
   "cell_type": "code",
   "execution_count": 319,
   "id": "4fb2f817-d5f5-4233-9d72-733aa6427099",
   "metadata": {
    "scrolled": true
   },
   "outputs": [],
   "source": [
    "columns = [\"PhD Student\", \"PhD-Level\", \"Expert-Level\"]\n",
    "annotations = {\n",
    "    \"PhD Student\":annotator1_queries,\n",
    "    \"PhD-Level\":annotator3_queries, \n",
    "    \"Expert-Level\":annotator2_queries, \n",
    "\n",
    "    \"FirstPhrase Title\":firstphrase_title_keyphrases, \n",
    "    \"TopicRank\":topicrank_keyphrases, \n",
    "    \"Bart-Large-KP20K\":annotator_bart_queries,\n",
    "}"
   ]
  },
  {
   "cell_type": "code",
   "execution_count": 320,
   "id": "abfc97d8-2c30-4767-86fa-fb5fafeb586d",
   "metadata": {
    "scrolled": true
   },
   "outputs": [
    {
     "data": {
      "text/html": [
       "<div>\n",
       "<style scoped>\n",
       "    .dataframe tbody tr th:only-of-type {\n",
       "        vertical-align: middle;\n",
       "    }\n",
       "\n",
       "    .dataframe tbody tr th {\n",
       "        vertical-align: top;\n",
       "    }\n",
       "\n",
       "    .dataframe thead th {\n",
       "        text-align: right;\n",
       "    }\n",
       "</style>\n",
       "<table border=\"1\" class=\"dataframe\">\n",
       "  <thead>\n",
       "    <tr style=\"text-align: right;\">\n",
       "      <th></th>\n",
       "      <th>PhD Student</th>\n",
       "      <th>PhD-Level</th>\n",
       "      <th>Expert-Level</th>\n",
       "    </tr>\n",
       "  </thead>\n",
       "  <tbody>\n",
       "    <tr>\n",
       "      <th>PhD Student</th>\n",
       "      <td>1.000000</td>\n",
       "      <td>0.287603</td>\n",
       "      <td>0.524606</td>\n",
       "    </tr>\n",
       "    <tr>\n",
       "      <th>PhD-Level</th>\n",
       "      <td>0.287603</td>\n",
       "      <td>1.000000</td>\n",
       "      <td>0.278393</td>\n",
       "    </tr>\n",
       "    <tr>\n",
       "      <th>Expert-Level</th>\n",
       "      <td>0.524606</td>\n",
       "      <td>0.278393</td>\n",
       "      <td>1.000000</td>\n",
       "    </tr>\n",
       "    <tr>\n",
       "      <th>FirstPhrase Title</th>\n",
       "      <td>0.394904</td>\n",
       "      <td>0.255985</td>\n",
       "      <td>0.398562</td>\n",
       "    </tr>\n",
       "    <tr>\n",
       "      <th>TopicRank</th>\n",
       "      <td>0.327250</td>\n",
       "      <td>0.203471</td>\n",
       "      <td>0.365821</td>\n",
       "    </tr>\n",
       "    <tr>\n",
       "      <th>Bart-Large-KP20K</th>\n",
       "      <td>0.407363</td>\n",
       "      <td>0.318741</td>\n",
       "      <td>0.378023</td>\n",
       "    </tr>\n",
       "  </tbody>\n",
       "</table>\n",
       "</div>"
      ],
      "text/plain": [
       "                   PhD Student  PhD-Level  Expert-Level\n",
       "PhD Student           1.000000   0.287603      0.524606\n",
       "PhD-Level             0.287603   1.000000      0.278393\n",
       "Expert-Level          0.524606   0.278393      1.000000\n",
       "FirstPhrase Title     0.394904   0.255985      0.398562\n",
       "TopicRank             0.327250   0.203471      0.365821\n",
       "Bart-Large-KP20K      0.407363   0.318741      0.378023"
      ]
     },
     "execution_count": 320,
     "metadata": {},
     "output_type": "execute_result"
    }
   ],
   "source": [
    "df = matrix_annotations(annotations, func=word_exact_match, cols=columns); df\n",
    "#print(df.to_latex(float_format=\"%.2f\"))"
   ]
  },
  {
   "cell_type": "markdown",
   "id": "68f33e06-5b9e-4315-a87f-393954d0a0c3",
   "metadata": {},
   "source": [
    "# Differences between anotators"
   ]
  },
  {
   "cell_type": "code",
   "execution_count": 292,
   "id": "692ba431-3497-4249-9731-44a78235898f",
   "metadata": {},
   "outputs": [],
   "source": [
    "def check_differences(preds, manual_annotations, threshold=0.05):\n",
    "    for k, annotations in manual_annotations.items():\n",
    "        for annotation_manual, annotation_preds in zip(annotations, preds):\n",
    "            if word_exact_match(annotation_manual, annotation_preds)<threshold:\n",
    "                print(k, annotation_manual, annotation_preds)\n",
    "\n",
    "manual_annotations = {\n",
    "    \"PhD Student\":annotator1_queries,\n",
    "    \"Expert-Level\":annotator2_queries, \n",
    "    \"PhD-Level\":annotator3_queries, \n",
    "}"
   ]
  },
  {
   "cell_type": "code",
   "execution_count": 293,
   "id": "be8dc2ab-faca-4839-b895-14049f700dfe",
   "metadata": {},
   "outputs": [
    {
     "name": "stdout",
     "output_type": "stream",
     "text": [
      "Expert-Level ['reproducibility', 'machine learning (ML)', 'nlp'] ['research reproductibility', 'natural language processing (NLP)', 'computational linguistics']\n",
      "Expert-Level ['annotation', 'cross-cultural differences', 'language technologies'] ['geo-cultural representation', 'socio-cultural identity', 'reinforcement learning from human feedback (RLHF)']\n",
      "PhD-Level ['annotation bias', 'natural language processing (nlp)', 'subjectivity', 'socio cultural annotation'] ['geo-cultural representation', 'socio-cultural identity', 'reinforcement learning from human feedback (RLHF)']\n"
     ]
    }
   ],
   "source": [
    "check_differences(annotator1_queries, manual_annotations)"
   ]
  },
  {
   "cell_type": "code",
   "execution_count": 294,
   "id": "9c0b0203-f6b7-4455-87e9-bc174f44810f",
   "metadata": {},
   "outputs": [
    {
     "name": "stdout",
     "output_type": "stream",
     "text": [
      "PhD Student ['research reproductibility', 'natural language processing (NLP)', 'computational linguistics'] ['reproducibility', 'machine learning (ML)', 'nlp']\n",
      "PhD Student ['geo-cultural representation', 'socio-cultural identity', 'reinforcement learning from human feedback (RLHF)'] ['annotation', 'cross-cultural differences', 'language technologies']\n",
      "PhD-Level ['meta learning', 'survey', 'natural language processing (nlp)'] ['meta-learning', 'nlp']\n",
      "PhD-Level ['knowledge graph', 'accessibility', 'structuration'] ['DBpedia Databus']\n",
      "PhD-Level ['language model', 'formal semantics', 'distributional models'] ['text representation', 'text embedding', 'control', 'analysis']\n"
     ]
    }
   ],
   "source": [
    "check_differences(annotator2_queries, manual_annotations)"
   ]
  },
  {
   "cell_type": "code",
   "execution_count": 295,
   "id": "3337706b-8e90-45df-8413-74ba0f0df581",
   "metadata": {},
   "outputs": [
    {
     "name": "stdout",
     "output_type": "stream",
     "text": [
      "PhD Student ['geo-cultural representation', 'socio-cultural identity', 'reinforcement learning from human feedback (RLHF)'] ['annotation bias', 'natural language processing (nlp)', 'subjectivity', 'socio cultural annotation']\n",
      "Expert-Level ['meta-learning', 'nlp'] ['meta learning', 'survey', 'natural language processing (nlp)']\n",
      "Expert-Level ['DBpedia Databus'] ['knowledge graph', 'accessibility', 'structuration']\n",
      "Expert-Level ['text representation', 'text embedding', 'control', 'analysis'] ['language model', 'formal semantics', 'distributional models']\n"
     ]
    }
   ],
   "source": [
    "check_differences(annotator3_queries, manual_annotations)"
   ]
  },
  {
   "cell_type": "markdown",
   "id": "278e7120-6425-4632-ade5-f1ea01b9533d",
   "metadata": {},
   "source": [
    "## Differences between automatic and manual"
   ]
  },
  {
   "cell_type": "code",
   "execution_count": 296,
   "id": "aec6940c-0446-4f1e-899f-f531a740f529",
   "metadata": {},
   "outputs": [
    {
     "name": "stdout",
     "output_type": "stream",
     "text": [
      "PhD Student ['human-nlp model interactions'] ['natural language processing', 'human-in-the-loop usability evaluation', 'model-based user interface design']\n",
      "Expert-Level ['human-NLP model interactions'] ['natural language processing', 'human-in-the-loop usability evaluation', 'model-based user interface design']\n",
      "PhD-Level ['zero shot learning', 'few shot learning', 'review'] ['few-shot', 'language models', 'zero-shot']\n",
      "PhD-Level ['socially aware', 'natural language processing (nlp)', 'human-level aspects'] ['contextualization', 'human-centered nlp', 'societal nlp']\n"
     ]
    }
   ],
   "source": [
    "check_differences(annotator_bart_queries, manual_annotations)"
   ]
  },
  {
   "cell_type": "markdown",
   "id": "a70179a1-95ee-4547-a04d-2b844a4c0cf2",
   "metadata": {},
   "source": [
    "# Sentence queries"
   ]
  },
  {
   "cell_type": "code",
   "execution_count": 297,
   "id": "ac2fa675-ef64-4983-addb-e0f6533d5e95",
   "metadata": {},
   "outputs": [],
   "source": [
    "queries_sentences = {}\n",
    "for annotator_i in [1,2,3]:\n",
    "    annotator_sentences = [query.strip() for query in pd.read_csv(f\"annotations/annotation_{annotator_i}.csv\")[\"query_sentence\"].replace(np.nan, \"\")]\n",
    "    queries_sentences[annotator_i] = [[clean_string(stem_string(w)) for w in s.split() if w not in stops] for s in annotator_sentences]    "
   ]
  },
  {
   "cell_type": "code",
   "execution_count": 298,
   "id": "0659b731-80e0-43fa-926f-1c8d8be88d5e",
   "metadata": {
    "scrolled": true
   },
   "outputs": [],
   "source": [
    "columns = [\"PhD Student\", \"Expert-Level\", \"PhD-Level\"]\n",
    "annotations_sentences = {\n",
    "    \"PhD Student\":queries_sentences[1],\n",
    "    \"Expert-Level\":queries_sentences[2], \n",
    "    \"PhD-Level\":queries_sentences[3], \n",
    "}"
   ]
  }
 ],
 "metadata": {
  "kernelspec": {
   "display_name": "Python 3 (ipykernel)",
   "language": "python",
   "name": "python3"
  },
  "language_info": {
   "codemirror_mode": {
    "name": "ipython",
    "version": 3
   },
   "file_extension": ".py",
   "mimetype": "text/x-python",
   "name": "python",
   "nbconvert_exporter": "python",
   "pygments_lexer": "ipython3",
   "version": "3.11.8"
  }
 },
 "nbformat": 4,
 "nbformat_minor": 5
}
