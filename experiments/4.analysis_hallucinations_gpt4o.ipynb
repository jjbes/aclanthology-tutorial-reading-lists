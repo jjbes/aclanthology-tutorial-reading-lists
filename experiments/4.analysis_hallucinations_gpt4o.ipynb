{
 "cells": [
  {
   "cell_type": "markdown",
   "id": "ae60a34b-3a46-450c-b445-63826f0635a8",
   "metadata": {},
   "source": [
    "# Results"
   ]
  },
  {
   "cell_type": "code",
   "execution_count": 1,
   "id": "48e14644-1840-40a2-9604-860b79025e61",
   "metadata": {},
   "outputs": [],
   "source": [
    "import json\n",
    "import math\n",
    "import numpy as np\n",
    "import pandas as pd\n",
    "from pathlib import Path\n",
    "from collections import defaultdict\n",
    "from colors import *\n",
    "from metrics import score, recall, ndcg, mrr"
   ]
  },
  {
   "cell_type": "code",
   "execution_count": 2,
   "id": "14ddff9c-f28a-4728-a2af-14ae88d1a361",
   "metadata": {},
   "outputs": [],
   "source": [
    "def load_preds(path):\n",
    "    preds = defaultdict(lambda: defaultdict(dict))\n",
    "    for key_type in [\"title\", \"id\"]:\n",
    "        for method in [\"semantic_scholar\", \"google_scholar\", \"gpt-4o\"]:\n",
    "            if method == \"gpt-4o\":\n",
    "                file_paths = [(Path(f'{path}/{method}/run{run_i}/preds_annot{annotator_i}.json'), f\"annotator{annotator_i}_run{run_i}\") for annotator_i in [1,2,3] for run_i in [1,2,3]]\n",
    "            else:\n",
    "                file_paths = [(Path(f'{path}/{method}/preds_annot{annotator_i}.json'),f\"annotator{annotator_i}\")  for annotator_i in [1,2,3]]\n",
    "            for file_path in file_paths:\n",
    "                preds[key_type][method][file_path[1]] = { id_:[clean_string(ref[key_type]) for ref in references] for id_, references in json.loads(file_path[0].read_text()).items()}\n",
    "    return json.loads(json.dumps(preds))"
   ]
  },
  {
   "cell_type": "markdown",
   "id": "927ac67b-4ecf-4e04-93b2-4ee05d3bd711",
   "metadata": {},
   "source": [
    "# Amount of undetermined ids per year"
   ]
  },
  {
   "cell_type": "code",
   "execution_count": 4,
   "id": "9fc7590a-194d-4a35-8689-fb72938c6c3d",
   "metadata": {},
   "outputs": [],
   "source": [
    "def mean_year(preds, year):    \n",
    "    return np.mean([(len([v for v in vs if v])/len(vs) if len(vs) else 1) for k, vs in preds.items() if str(year) in k])\n",
    "\n",
    "def mean_match_ids(preds):\n",
    "    scores = defaultdict(lambda: defaultdict(dict))\n",
    "    for year in [2020, 2021, 2022, 2023, 2024]:\n",
    "        for key_type in [\"id\"]:\n",
    "            for method in [\"semantic_scholar\", \"google_scholar\", \"gpt-4o\"]:\n",
    "                if method == \"gpt-4o\":\n",
    "                    scores[year][method] = np.mean([mean_year(preds[key_type][method][f\"annotator{annotator_i}_run{run_i}\"], year) for annotator_i in [1,2,3]for annotator_i in [1,2,3] for run_i in [1,2,3]])\n",
    "                else:\n",
    "                    scores[year][method] = np.mean([mean_year(preds[key_type][method][f\"annotator{annotator_i}\"], year) for annotator_i in [1,2,3]])\n",
    "    return json.loads(json.dumps(scores))"
   ]
  },
  {
   "cell_type": "code",
   "execution_count": 5,
   "id": "c776c32d-53fd-4e3e-94a0-6ae02c3390d9",
   "metadata": {},
   "outputs": [
    {
     "data": {
      "text/plain": [
       "{'2020': {'semantic_scholar': 1.0,\n",
       "  'google_scholar': 0.9340958605664489,\n",
       "  'gpt-4o': 0.7020297173250601},\n",
       " '2021': {'semantic_scholar': 1.0,\n",
       "  'google_scholar': 0.9745614035087719,\n",
       "  'gpt-4o': 0.6871833969173876},\n",
       " '2022': {'semantic_scholar': 1.0,\n",
       "  'google_scholar': 0.9543859649122807,\n",
       "  'gpt-4o': 0.6575273745640273},\n",
       " '2023': {'semantic_scholar': 1.0,\n",
       "  'google_scholar': 0.9307692307692307,\n",
       "  'gpt-4o': 0.5473300929193206},\n",
       " '2024': {'semantic_scholar': 1.0,\n",
       "  'google_scholar': 0.9033333333333333,\n",
       "  'gpt-4o': 0.36392622806107505}}"
      ]
     },
     "execution_count": 5,
     "metadata": {},
     "output_type": "execute_result"
    }
   ],
   "source": [
    "preds = load_preds(\"preds_search_engines/preds\")\n",
    "mean_match_ids(preds)"
   ]
  },
  {
   "cell_type": "code",
   "execution_count": 6,
   "id": "d56af91e-be5e-4621-8cb3-9c5a51118b43",
   "metadata": {},
   "outputs": [
    {
     "data": {
      "text/plain": [
       "<Axes: xlabel='year', ylabel='matches'>"
      ]
     },
     "execution_count": 6,
     "metadata": {},
     "output_type": "execute_result"
    },
    {
     "data": {
      "image/png": "[encoded data removed]",
      "text/plain": [
       "<Figure size 800x400 with 1 Axes>"
      ]
     },
     "metadata": {},
     "output_type": "display_data"
    }
   ],
   "source": [
    "years = [2020, 2021, 2022, 2023, 2024]\n",
    "data = defaultdict(list)\n",
    "for i, method in enumerate([\"semantic_scholar\", \"google_scholar\", \"gpt-4o\"]):\n",
    "    data[\"year\"] = years\n",
    "    for year in years:\n",
    "        data[method].append(mean_match_ids(preds)[str(year)][method])\n",
    "df = pd.DataFrame(data)\n",
    "df.plot.bar(x=\"year\", y=[\"semantic_scholar\", \"google_scholar\", \"gpt-4o\"], ylabel=\"matches\", color=colormap, figsize=(8,4))"
   ]
  }
 ],
 "metadata": {
  "kernelspec": {
   "display_name": "Python 3 (ipykernel)",
   "language": "python",
   "name": "python3"
  },
  "language_info": {
   "codemirror_mode": {
    "name": "ipython",
    "version": 3
   },
   "file_extension": ".py",
   "mimetype": "text/x-python",
   "name": "python",
   "nbconvert_exporter": "python",
   "pygments_lexer": "ipython3",
   "version": "3.11.8"
  }
 },
 "nbformat": 4,
 "nbformat_minor": 5
}
