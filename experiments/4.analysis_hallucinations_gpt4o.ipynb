{
 "cells": [
  {
   "cell_type": "markdown",
   "id": "ae60a34b-3a46-450c-b445-63826f0635a8",
   "metadata": {},
   "source": [
    "# Results"
   ]
  },
  {
   "cell_type": "code",
   "execution_count": 168,
   "id": "48e14644-1840-40a2-9604-860b79025e61",
   "metadata": {},
   "outputs": [],
   "source": [
    "import re\n",
    "import ast\n",
    "import json\n",
    "import math\n",
    "import numpy as np\n",
    "import pandas as pd\n",
    "from pathlib import Path\n",
    "from collections import defaultdict\n",
    "from metrics import score, recall, ndcg, mrr"
   ]
  },
  {
   "cell_type": "code",
   "execution_count": 170,
   "id": "14ddff9c-f28a-4728-a2af-14ae88d1a361",
   "metadata": {},
   "outputs": [],
   "source": [
    "def clean_string(string):\n",
    "    if not string:\n",
    "        return None\n",
    "    return re.sub(r'\\W+','', string).lower() \n",
    "\n",
    "def compute_results(trues, preds_annots):\n",
    "    data = {}\n",
    "    for k, preds in preds_annots.items():\n",
    "        data[k] = score(trues, preds, [recall, ndcg, mrr], k=20)\n",
    "    df = pd.DataFrame(data).transpose()\n",
    "    df.loc['Mean'] = df.mean()\n",
    "    return df.round(1)\n",
    "\n",
    "def load_preds(path):\n",
    "    preds = defaultdict(lambda: defaultdict(dict))\n",
    "    for key_type in [\"title\", \"id\"]:\n",
    "        for method in [\"semantic_scholar\", \"google_scholar\", \"gpt-4o\"]:\n",
    "            if method == \"gpt-4o\":\n",
    "                file_paths = [(Path(f'{path}/{method}/run{run_i}/preds_annot{annotator_i}.json'), f\"annotator{annotator_i}_run{run_i}\") for annotator_i in [1,2,3] for run_i in [1,2,3]]\n",
    "            else:\n",
    "                file_paths = [(Path(f'{path}/{method}/preds_annot{annotator_i}.json'),f\"annotator{annotator_i}\")  for annotator_i in [1,2,3]]\n",
    "            for file_path in file_paths:\n",
    "                preds[key_type][method][file_path[1]] = { id_:[clean_string(ref[key_type]) for ref in references] for id_, references in json.loads(file_path[0].read_text()).items()}\n",
    "    return json.loads(json.dumps(preds))"
   ]
  },
  {
   "cell_type": "code",
   "execution_count": 147,
   "id": "4c357785-612b-49cc-9b0b-886239dbf622",
   "metadata": {},
   "outputs": [],
   "source": [
    "reading_lists = pd.read_csv(\"../reading_lists.csv\")\n",
    "reading_lists['reading_list'] = reading_lists['reading_list'].apply(ast.literal_eval)\n",
    "\n",
    "trues = {}\n",
    "trues[\"title\"] = { id_:[clean_string(ref[\"title\"]) for ref in references] for id_, references in zip(reading_lists[\"id\"], reading_lists[\"reading_list\"]) }\n",
    "trues[\"id\"]  = { id_:[ref[\"paperId\"] for ref in references] for id_, references in zip(reading_lists[\"id\"], reading_lists[\"reading_list\"]) }\n",
    "\n",
    "preds = load_preds(\"preds_search_engines/preds\")"
   ]
  },
  {
   "cell_type": "markdown",
   "id": "43c1f690-6250-4846-9be1-2b1be2245db4",
   "metadata": {},
   "source": [
    "# Comparing results using title and id matching"
   ]
  },
  {
   "cell_type": "markdown",
   "id": "08773d20-e3bf-4f4f-9697-203998437f8c",
   "metadata": {},
   "source": [
    "## Engine comparison using title matching"
   ]
  },
  {
   "cell_type": "code",
   "execution_count": 174,
   "id": "118deb10-e2cb-4b21-bb23-66452159eaae",
   "metadata": {
    "scrolled": true
   },
   "outputs": [
    {
     "data": {
      "text/html": [
       "<div>\n",
       "<style scoped>\n",
       "    .dataframe tbody tr th:only-of-type {\n",
       "        vertical-align: middle;\n",
       "    }\n",
       "\n",
       "    .dataframe tbody tr th {\n",
       "        vertical-align: top;\n",
       "    }\n",
       "\n",
       "    .dataframe thead tr th {\n",
       "        text-align: left;\n",
       "    }\n",
       "</style>\n",
       "<table border=\"1\" class=\"dataframe\">\n",
       "  <thead>\n",
       "    <tr>\n",
       "      <th></th>\n",
       "      <th colspan=\"3\" halign=\"left\">Semantic Scholar</th>\n",
       "      <th colspan=\"3\" halign=\"left\">Google Scholar</th>\n",
       "      <th colspan=\"3\" halign=\"left\">GPT-4o</th>\n",
       "    </tr>\n",
       "    <tr>\n",
       "      <th></th>\n",
       "      <th>recall</th>\n",
       "      <th>ndcg</th>\n",
       "      <th>mrr</th>\n",
       "      <th>recall</th>\n",
       "      <th>ndcg</th>\n",
       "      <th>mrr</th>\n",
       "      <th>recall</th>\n",
       "      <th>ndcg</th>\n",
       "      <th>mrr</th>\n",
       "    </tr>\n",
       "  </thead>\n",
       "  <tbody>\n",
       "    <tr>\n",
       "      <th>PhD Student</th>\n",
       "      <td>5.3</td>\n",
       "      <td>3.6</td>\n",
       "      <td>6.2</td>\n",
       "      <td>8.5</td>\n",
       "      <td>7.3</td>\n",
       "      <td>13.3</td>\n",
       "      <td>10.4</td>\n",
       "      <td>9.6</td>\n",
       "      <td>17.7</td>\n",
       "    </tr>\n",
       "    <tr>\n",
       "      <th>Expert-Level</th>\n",
       "      <td>6.6</td>\n",
       "      <td>4.7</td>\n",
       "      <td>8.4</td>\n",
       "      <td>9.0</td>\n",
       "      <td>7.2</td>\n",
       "      <td>12.7</td>\n",
       "      <td>11.3</td>\n",
       "      <td>11.2</td>\n",
       "      <td>22.0</td>\n",
       "    </tr>\n",
       "    <tr>\n",
       "      <th>PhD-Level</th>\n",
       "      <td>4.0</td>\n",
       "      <td>3.2</td>\n",
       "      <td>5.9</td>\n",
       "      <td>5.4</td>\n",
       "      <td>4.9</td>\n",
       "      <td>10.1</td>\n",
       "      <td>9.5</td>\n",
       "      <td>9.1</td>\n",
       "      <td>17.7</td>\n",
       "    </tr>\n",
       "    <tr>\n",
       "      <th>Mean</th>\n",
       "      <td>5.3</td>\n",
       "      <td>3.8</td>\n",
       "      <td>6.8</td>\n",
       "      <td>7.6</td>\n",
       "      <td>6.5</td>\n",
       "      <td>12.0</td>\n",
       "      <td>10.4</td>\n",
       "      <td>9.9</td>\n",
       "      <td>19.2</td>\n",
       "    </tr>\n",
       "  </tbody>\n",
       "</table>\n",
       "</div>"
      ],
      "text/plain": [
       "             Semantic Scholar           Google Scholar            GPT-4o  \\\n",
       "                       recall ndcg  mrr         recall ndcg   mrr recall   \n",
       "PhD Student               5.3  3.6  6.2            8.5  7.3  13.3   10.4   \n",
       "Expert-Level              6.6  4.7  8.4            9.0  7.2  12.7   11.3   \n",
       "PhD-Level                 4.0  3.2  5.9            5.4  4.9  10.1    9.5   \n",
       "Mean                      5.3  3.8  6.8            7.6  6.5  12.0   10.4   \n",
       "\n",
       "                          \n",
       "              ndcg   mrr  \n",
       "PhD Student    9.6  17.7  \n",
       "Expert-Level  11.2  22.0  \n",
       "PhD-Level      9.1  17.7  \n",
       "Mean           9.9  19.2  "
      ]
     },
     "execution_count": 174,
     "metadata": {},
     "output_type": "execute_result"
    }
   ],
   "source": [
    "df1 = compute_results(trues[\"title\"], {\"PhD Student\":preds[\"title\"][\"gpt-4o\"][\"annotator1_run1\"], \"Expert-Level\":preds[\"title\"][\"gpt-4o\"][\"annotator2_run1\"], \"PhD-Level\":preds[\"title\"][\"gpt-4o\"][\"annotator3_run1\"]})\n",
    "df2 = compute_results(trues[\"title\"], {\"PhD Student\":preds[\"title\"][\"gpt-4o\"][\"annotator1_run2\"], \"Expert-Level\":preds[\"title\"][\"gpt-4o\"][\"annotator2_run2\"], \"PhD-Level\":preds[\"title\"][\"gpt-4o\"][\"annotator3_run2\"]})\n",
    "df3 = compute_results(trues[\"title\"], {\"PhD Student\":preds[\"title\"][\"gpt-4o\"][\"annotator1_run3\"], \"Expert-Level\":preds[\"title\"][\"gpt-4o\"][\"annotator2_run3\"], \"PhD-Level\":preds[\"title\"][\"gpt-4o\"][\"annotator3_run3\"]})\n",
    "df = pd.concat([df1, df2, df3], axis=1, keys=[\"GPT-4o run 1\", \"GPT-4o run 2\", \"GPT-4o run 3\"])\n",
    "average_gpt4_run = ((df[\"GPT-4o run 1\"] + df[\"GPT-4o run 2\"] + df[\"GPT-4o run 3\"]) / 3).round(1);\n",
    "df_gpt4 = pd.concat([df1, df2, df3, average_gpt4_run], axis=1, keys=[\"GPT-4o run 1\", \"GPT-4o run 2\", \"GPT-4o run 3\", \"Average run\"])\n",
    "\n",
    "df1 = compute_results(trues[\"title\"], {\"PhD Student\":preds[\"title\"][\"semantic_scholar\"][\"annotator1\"], \"Expert-Level\":preds[\"title\"][\"semantic_scholar\"][\"annotator2\"], \"PhD-Level\":preds[\"title\"][\"semantic_scholar\"][\"annotator3\"]})\n",
    "df2 = compute_results(trues[\"title\"], {\"PhD Student\":preds[\"title\"][\"google_scholar\"][\"annotator1\"], \"Expert-Level\":preds[\"title\"][\"google_scholar\"][\"annotator2\"], \"PhD-Level\":preds[\"title\"][\"google_scholar\"][\"annotator3\"]})\n",
    "df3 = df_gpt4[\"Average run\"]\n",
    "df_engines = pd.concat([df1, df2, df3], axis=1, keys=[\"Semantic Scholar\", \"Google Scholar\", \"GPT-4o\"]); df_engines\n",
    "\n",
    "#print(df_engines.to_latex(float_format=\"{:0.1f}\".format))"
   ]
  },
  {
   "cell_type": "markdown",
   "id": "a4d54480-3b14-4478-be6a-65d793decd25",
   "metadata": {},
   "source": [
    "## Comparison using Semantic Scholar paperId matching"
   ]
  },
  {
   "cell_type": "code",
   "execution_count": 176,
   "id": "36c8be62-e30e-44a1-9c26-9a4a669bf30c",
   "metadata": {
    "scrolled": true
   },
   "outputs": [
    {
     "data": {
      "text/html": [
       "<div>\n",
       "<style scoped>\n",
       "    .dataframe tbody tr th:only-of-type {\n",
       "        vertical-align: middle;\n",
       "    }\n",
       "\n",
       "    .dataframe tbody tr th {\n",
       "        vertical-align: top;\n",
       "    }\n",
       "\n",
       "    .dataframe thead tr th {\n",
       "        text-align: left;\n",
       "    }\n",
       "</style>\n",
       "<table border=\"1\" class=\"dataframe\">\n",
       "  <thead>\n",
       "    <tr>\n",
       "      <th></th>\n",
       "      <th colspan=\"3\" halign=\"left\">Semantic Scholar</th>\n",
       "      <th colspan=\"3\" halign=\"left\">Google Scholar</th>\n",
       "      <th colspan=\"3\" halign=\"left\">GPT-4o</th>\n",
       "    </tr>\n",
       "    <tr>\n",
       "      <th></th>\n",
       "      <th>recall</th>\n",
       "      <th>ndcg</th>\n",
       "      <th>mrr</th>\n",
       "      <th>recall</th>\n",
       "      <th>ndcg</th>\n",
       "      <th>mrr</th>\n",
       "      <th>recall</th>\n",
       "      <th>ndcg</th>\n",
       "      <th>mrr</th>\n",
       "    </tr>\n",
       "  </thead>\n",
       "  <tbody>\n",
       "    <tr>\n",
       "      <th>PhD Student</th>\n",
       "      <td>5.3</td>\n",
       "      <td>3.6</td>\n",
       "      <td>6.2</td>\n",
       "      <td>8.4</td>\n",
       "      <td>7.2</td>\n",
       "      <td>13.0</td>\n",
       "      <td>11.3</td>\n",
       "      <td>10.6</td>\n",
       "      <td>19.3</td>\n",
       "    </tr>\n",
       "    <tr>\n",
       "      <th>Expert-Level</th>\n",
       "      <td>6.6</td>\n",
       "      <td>4.7</td>\n",
       "      <td>8.4</td>\n",
       "      <td>8.8</td>\n",
       "      <td>7.1</td>\n",
       "      <td>12.7</td>\n",
       "      <td>12.4</td>\n",
       "      <td>12.6</td>\n",
       "      <td>25.5</td>\n",
       "    </tr>\n",
       "    <tr>\n",
       "      <th>PhD-Level</th>\n",
       "      <td>4.0</td>\n",
       "      <td>3.2</td>\n",
       "      <td>5.9</td>\n",
       "      <td>5.2</td>\n",
       "      <td>4.7</td>\n",
       "      <td>9.7</td>\n",
       "      <td>10.6</td>\n",
       "      <td>10.4</td>\n",
       "      <td>20.9</td>\n",
       "    </tr>\n",
       "    <tr>\n",
       "      <th>Mean</th>\n",
       "      <td>5.3</td>\n",
       "      <td>3.8</td>\n",
       "      <td>6.8</td>\n",
       "      <td>7.5</td>\n",
       "      <td>6.4</td>\n",
       "      <td>11.8</td>\n",
       "      <td>11.4</td>\n",
       "      <td>11.3</td>\n",
       "      <td>21.9</td>\n",
       "    </tr>\n",
       "  </tbody>\n",
       "</table>\n",
       "</div>"
      ],
      "text/plain": [
       "             Semantic Scholar           Google Scholar            GPT-4o  \\\n",
       "                       recall ndcg  mrr         recall ndcg   mrr recall   \n",
       "PhD Student               5.3  3.6  6.2            8.4  7.2  13.0   11.3   \n",
       "Expert-Level              6.6  4.7  8.4            8.8  7.1  12.7   12.4   \n",
       "PhD-Level                 4.0  3.2  5.9            5.2  4.7   9.7   10.6   \n",
       "Mean                      5.3  3.8  6.8            7.5  6.4  11.8   11.4   \n",
       "\n",
       "                          \n",
       "              ndcg   mrr  \n",
       "PhD Student   10.6  19.3  \n",
       "Expert-Level  12.6  25.5  \n",
       "PhD-Level     10.4  20.9  \n",
       "Mean          11.3  21.9  "
      ]
     },
     "execution_count": 176,
     "metadata": {},
     "output_type": "execute_result"
    }
   ],
   "source": [
    "df1 = compute_results(trues[\"id\"], {\"PhD Student\":preds[\"id\"][\"gpt-4o\"][\"annotator1_run1\"], \"Expert-Level\":preds[\"id\"][\"gpt-4o\"][\"annotator2_run1\"], \"PhD-Level\":preds[\"id\"][\"gpt-4o\"][\"annotator3_run1\"]})\n",
    "df2 = compute_results(trues[\"id\"], {\"PhD Student\":preds[\"id\"][\"gpt-4o\"][\"annotator1_run2\"], \"Expert-Level\":preds[\"id\"][\"gpt-4o\"][\"annotator2_run2\"], \"PhD-Level\":preds[\"id\"][\"gpt-4o\"][\"annotator3_run2\"]})\n",
    "df3 = compute_results(trues[\"id\"], {\"PhD Student\":preds[\"id\"][\"gpt-4o\"][\"annotator1_run3\"], \"Expert-Level\":preds[\"id\"][\"gpt-4o\"][\"annotator2_run3\"], \"PhD-Level\":preds[\"id\"][\"gpt-4o\"][\"annotator3_run3\"]})\n",
    "df = pd.concat([df1, df2, df3], axis=1, keys=[\"GPT-4o run 1\", \"GPT-4o run 2\", \"GPT-4o run 3\"])\n",
    "average_gpt4_run = ((df[\"GPT-4o run 1\"] + df[\"GPT-4o run 2\"] + df[\"GPT-4o run 3\"]) / 3).round(1);\n",
    "df_gpt4 = pd.concat([df1, df2, df3, average_gpt4_run], axis=1, keys=[\"GPT-4o run 1\", \"GPT-4o run 2\", \"GPT-4o run 3\", \"Average run\"])\n",
    "\n",
    "df1 = compute_results(trues[\"id\"], {\"PhD Student\":preds[\"id\"][\"semantic_scholar\"][\"annotator1\"], \"Expert-Level\":preds[\"id\"][\"semantic_scholar\"][\"annotator2\"], \"PhD-Level\":preds[\"id\"][\"semantic_scholar\"][\"annotator3\"]})\n",
    "df2 = compute_results(trues[\"id\"], {\"PhD Student\":preds[\"id\"][\"google_scholar\"][\"annotator1\"], \"Expert-Level\":preds[\"id\"][\"google_scholar\"][\"annotator2\"], \"PhD-Level\":preds[\"id\"][\"google_scholar\"][\"annotator3\"]})\n",
    "df3 = df_gpt4[\"Average run\"]\n",
    "df_engines = pd.concat([df1, df2, df3], axis=1, keys=[\"Semantic Scholar\", \"Google Scholar\", \"GPT-4o\"]); df_engines\n",
    "\n",
    "#print(df_engines.to_latex(float_format=\"{:0.1f}\".format))"
   ]
  },
  {
   "cell_type": "markdown",
   "id": "927ac67b-4ecf-4e04-93b2-4ee05d3bd711",
   "metadata": {},
   "source": [
    "# Amount of undetermined ids per year"
   ]
  },
  {
   "cell_type": "code",
   "execution_count": 177,
   "id": "9fc7590a-194d-4a35-8689-fb72938c6c3d",
   "metadata": {},
   "outputs": [],
   "source": [
    "def mean_year(preds, year):    \n",
    "    return np.mean([(len([v for v in vs if v])/len(vs) if len(vs) else 1) for k, vs in preds.items() if str(year) in k])\n",
    "\n",
    "def mean_match_ids(preds):\n",
    "    scores = defaultdict(lambda: defaultdict(dict))\n",
    "    for year in [2020, 2021, 2022, 2023, 2024]:\n",
    "        for key_type in [\"id\"]:\n",
    "            for method in [\"semantic_scholar\", \"google_scholar\", \"gpt-4o\"]:\n",
    "                if method == \"gpt-4o\":\n",
    "                    scores[year][method] = np.mean([mean_year(preds[key_type][method][f\"annotator{annotator_i}_run{run_i}\"], year) for annotator_i in [1,2,3]for annotator_i in [1,2,3] for run_i in [1,2,3]])\n",
    "                else:\n",
    "                    scores[year][method] = np.mean([mean_year(preds[key_type][method][f\"annotator{annotator_i}\"], year) for annotator_i in [1,2,3]])\n",
    "    return json.loads(json.dumps(scores))"
   ]
  },
  {
   "cell_type": "code",
   "execution_count": 190,
   "id": "d56af91e-be5e-4621-8cb3-9c5a51118b43",
   "metadata": {},
   "outputs": [
    {
     "data": {
      "text/plain": [
       "<Axes: xlabel='year', ylabel='matches'>"
      ]
     },
     "execution_count": 190,
     "metadata": {},
     "output_type": "execute_result"
    },
    {
     "data": {
      "image/png": "[encoded data removed]",
      "text/plain": [
       "<Figure size 640x480 with 1 Axes>"
      ]
     },
     "metadata": {},
     "output_type": "display_data"
    }
   ],
   "source": [
    "years = [2020, 2021, 2022, 2023, 2024]\n",
    "data = defaultdict(list)\n",
    "for i, method in enumerate([\"semantic_scholar\", \"google_scholar\", \"gpt-4o\"]):\n",
    "    data[\"year\"] = years\n",
    "    for year in years:\n",
    "        data[method].append(mean_match_ids(preds)[str(year)][method])\n",
    "df = pd.DataFrame(data)\n",
    "df.plot.bar(x=\"year\", y=[\"semantic_scholar\", \"google_scholar\", \"gpt-4o\"], ylabel=\"matches\")"
   ]
  }
 ],
 "metadata": {
  "kernelspec": {
   "display_name": "Python 3 (ipykernel)",
   "language": "python",
   "name": "python3"
  },
  "language_info": {
   "codemirror_mode": {
    "name": "ipython",
    "version": 3
   },
   "file_extension": ".py",
   "mimetype": "text/x-python",
   "name": "python",
   "nbconvert_exporter": "python",
   "pygments_lexer": "ipython3",
   "version": "3.11.8"
  }
 },
 "nbformat": 4,
 "nbformat_minor": 5
}
